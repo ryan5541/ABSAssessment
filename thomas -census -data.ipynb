{
 "cells": [
  {
   "cell_type": "code",
   "execution_count": 74,
   "metadata": {},
   "outputs": [],
   "source": [
    "import pandas as pd\n",
    "import requests\n",
    "import matplotlib\n",
    "import seaborn as sns\n",
    "import matplotlib.pyplot as plt\n",
    "import plotly.express as px\n",
    "from config import api_key"
   ]
  },
  {
   "cell_type": "code",
   "execution_count": 75,
   "metadata": {},
   "outputs": [],
   "source": [
    "response = requests.get(f'https://api.census.gov/data/2018/abstcb?get=GEO_ID,NAME,EMP,RACE_GROUP,RACE_GROUP_LABEL,FIRMPDEMP,IMPACTWF_U,IMPACTWF_U_LABEL&for=us:*&NAICS2017=00&key={api_key}')"
   ]
  },
  {
   "cell_type": "code",
   "execution_count": 76,
   "metadata": {},
   "outputs": [],
   "source": [
    "html = response.text\n",
    "# html"
   ]
  },
  {
   "cell_type": "code",
   "execution_count": 77,
   "metadata": {},
   "outputs": [
    {
     "data": {
      "text/plain": [
       "<Response [200]>"
      ]
     },
     "execution_count": 77,
     "metadata": {},
     "output_type": "execute_result"
    }
   ],
   "source": [
    "response"
   ]
  },
  {
   "cell_type": "code",
   "execution_count": 6,
   "metadata": {},
   "outputs": [
    {
     "name": "stdout",
     "output_type": "stream",
     "text": [
      "<class 'list'>\n"
     ]
    }
   ],
   "source": [
    "census_json = response.json()\n",
    "print(type(census_json))\n",
    "# census_json"
   ]
  },
  {
   "cell_type": "code",
   "execution_count": 7,
   "metadata": {},
   "outputs": [],
   "source": [
    "df = pd.DataFrame(census_json)\n",
    "#this replaces the column names with the values of the 0th row\n",
    "df.columns = df.loc[0]\n",
    "#Drop looks for rows by default, so we don't need to specify. this will remove the 0'th row\n",
    "df.drop(0, inplace=True)\n"
   ]
  },
  {
   "cell_type": "code",
   "execution_count": 8,
   "metadata": {},
   "outputs": [
    {
     "data": {
      "text/plain": [
       "(495, 10)"
      ]
     },
     "execution_count": 8,
     "metadata": {},
     "output_type": "execute_result"
    }
   ],
   "source": [
    "df.shape"
   ]
  },
  {
   "cell_type": "code",
   "execution_count": 9,
   "metadata": {},
   "outputs": [
    {
     "name": "stderr",
     "output_type": "stream",
     "text": [
      "C:\\Users\\nolan\\AppData\\Local\\Temp\\ipykernel_6032\\1065454604.py:2: SettingWithCopyWarning: \n",
      "A value is trying to be set on a copy of a slice from a DataFrame.\n",
      "Try using .loc[row_indexer,col_indexer] = value instead\n",
      "\n",
      "See the caveats in the documentation: https://pandas.pydata.org/pandas-docs/stable/user_guide/indexing.html#returning-a-view-versus-a-copy\n",
      "  employee_by_state.EMP = employee_by_state.EMP.astype(int)\n"
     ]
    },
    {
     "data": {
      "text/html": [
       "<div>\n",
       "<style scoped>\n",
       "    .dataframe tbody tr th:only-of-type {\n",
       "        vertical-align: middle;\n",
       "    }\n",
       "\n",
       "    .dataframe tbody tr th {\n",
       "        vertical-align: top;\n",
       "    }\n",
       "\n",
       "    .dataframe thead th {\n",
       "        text-align: right;\n",
       "    }\n",
       "</style>\n",
       "<table border=\"1\" class=\"dataframe\">\n",
       "  <thead>\n",
       "    <tr style=\"text-align: right;\">\n",
       "      <th></th>\n",
       "      <th>NAME</th>\n",
       "      <th>EMP</th>\n",
       "    </tr>\n",
       "  </thead>\n",
       "  <tbody>\n",
       "    <tr>\n",
       "      <th>28</th>\n",
       "      <td>United States</td>\n",
       "      <td>33599954</td>\n",
       "    </tr>\n",
       "    <tr>\n",
       "      <th>14</th>\n",
       "      <td>United States</td>\n",
       "      <td>35732012</td>\n",
       "    </tr>\n",
       "    <tr>\n",
       "      <th>25</th>\n",
       "      <td>United States</td>\n",
       "      <td>38244729</td>\n",
       "    </tr>\n",
       "    <tr>\n",
       "      <th>22</th>\n",
       "      <td>United States</td>\n",
       "      <td>50469228</td>\n",
       "    </tr>\n",
       "    <tr>\n",
       "      <th>33</th>\n",
       "      <td>United States</td>\n",
       "      <td>52307942</td>\n",
       "    </tr>\n",
       "  </tbody>\n",
       "</table>\n",
       "</div>"
      ],
      "text/plain": [
       "0            NAME       EMP\n",
       "28  United States  33599954\n",
       "14  United States  35732012\n",
       "25  United States  38244729\n",
       "22  United States  50469228\n",
       "33  United States  52307942"
      ]
     },
     "execution_count": 9,
     "metadata": {},
     "output_type": "execute_result"
    }
   ],
   "source": [
    "employee_by_state = df[['NAME', 'EMP']]\n",
    "employee_by_state.EMP = employee_by_state.EMP.astype(int)\n",
    "\n",
    "\n",
    "sorted_employees = employee_by_state.sort_values(by='EMP', ascending=True)\n",
    "sorted_employees.tail()"
   ]
  },
  {
   "cell_type": "code",
   "execution_count": 10,
   "metadata": {},
   "outputs": [
    {
     "data": {
      "text/plain": [
       "Index(['GEO_ID', 'NAME', 'EMP', 'RACE_GROUP', 'RACE_GROUP_LABEL', 'FIRMPDEMP',\n",
       "       'IMPACTWF_U', 'IMPACTWF_U_LABEL', 'NAICS2017', 'us'],\n",
       "      dtype='object', name=0)"
      ]
     },
     "execution_count": 10,
     "metadata": {},
     "output_type": "execute_result"
    }
   ],
   "source": [
    "df.columns"
   ]
  },
  {
   "cell_type": "code",
   "execution_count": 11,
   "metadata": {},
   "outputs": [
    {
     "data": {
      "text/plain": [
       "array(['Artificial Intelligence: Increased number of workers employed by this business',\n",
       "       'Artificial Intelligence: Decreased number of workers employed by this business',\n",
       "       'Artificial Intelligence: Did not change number of workers employed by this business',\n",
       "       'Artificial Intelligence: Increased skill level of workers employed by this business',\n",
       "       'Artificial Intelligence: Decreased skill level of workers employed by this business',\n",
       "       'Artificial Intelligence: Did not change skill level of workers employed by this business',\n",
       "       'Artificial Intelligence: Increased STEM skills of workers employed by this business',\n",
       "       'Artificial Intelligence: Decreased STEM skills of workers employed by this business',\n",
       "       'Artificial Intelligence: Did not change STEM skills of workers employed by this business',\n",
       "       'Artificial Intelligence: Not applicable, did not employ workers with STEM skills',\n",
       "       'Artificial Intelligence: Total Reporting',\n",
       "       'Cloud-Based: Increased number of workers employed by this business',\n",
       "       'Cloud-Based: Decreased number of workers employed by this business',\n",
       "       'Cloud-Based: Did not change number of workers employed by this business',\n",
       "       'Cloud-Based: Increased skill level of workers employed by this business',\n",
       "       'Cloud-Based: Decreased skill level of workers employed by this business',\n",
       "       'Cloud-Based: Did not change skill level of workers employed by this business',\n",
       "       'Cloud-Based: Increased STEM skills of workers employed by this business',\n",
       "       'Cloud-Based: Decreased STEM skills of workers employed by this business',\n",
       "       'Cloud-Based: Did not change STEM skills of workers employed by this business',\n",
       "       'Cloud-Based: Not applicable, did not employ workers with STEM skills',\n",
       "       'Cloud-Based: Total Reporting',\n",
       "       'Specialized Software: Increased number of workers employed by this business',\n",
       "       'Specialized Software: Decreased number of workers employed by this business',\n",
       "       'Specialized Software: Did not change number of workers employed by this business',\n",
       "       'Specialized Software: Increased skill level of workers employed by this business',\n",
       "       'Specialized Software: Decreased skill level of workers employed by this business',\n",
       "       'Specialized Software: Did not change skill level of workers employed by this business',\n",
       "       'Specialized Software: Increased STEM skills of workers employed by this business',\n",
       "       'Specialized Software: Decreased STEM skills of workers employed by this business',\n",
       "       'Specialized Software: Did not change STEM skills of workers employed by this business',\n",
       "       'Specialized Software: Not applicable, did not employ workers with STEM skills',\n",
       "       'Specialized Software: Total Reporting',\n",
       "       'Robotics: Increased number of workers employed by this business',\n",
       "       'Robotics: Decreased number of workers employed by this business',\n",
       "       'Robotics: Did not change number of workers employed by this business',\n",
       "       'Robotics: Increased skill level of workers employed by this business',\n",
       "       'Robotics: Decreased skill level of workers employed by this business',\n",
       "       'Robotics: Did not change skill level of workers employed by this business',\n",
       "       'Robotics: Increased STEM skills of workers employed by this business',\n",
       "       'Robotics: Decreased STEM skills of workers employed by this business',\n",
       "       'Robotics: Did not change STEM skills of workers employed by this business',\n",
       "       'Robotics: Not applicable, did not employ workers with STEM skills',\n",
       "       'Robotics: Total Reporting',\n",
       "       'Specialized Equipment: Increased number of workers employed by this business',\n",
       "       'Specialized Equipment: Decreased number of workers employed by this business',\n",
       "       'Specialized Equipment: Did not change number of workers employed by this business',\n",
       "       'Specialized Equipment: Increased skill level of workers employed by this business',\n",
       "       'Specialized Equipment: Decreased skill level of workers employed by this business',\n",
       "       'Specialized Equipment: Did not change skill level of workers employed by this business',\n",
       "       'Specialized Equipment: Increased STEM skills of workers employed by this business',\n",
       "       'Specialized Equipment: Decreased STEM skills of workers employed by this business',\n",
       "       'Specialized Equipment: Did not change STEM skills of workers employed by this business',\n",
       "       'Specialized Equipment: Not applicable, did not employ workers with STEM skills',\n",
       "       'Specialized Equipment: Total Reporting'], dtype=object)"
      ]
     },
     "execution_count": 11,
     "metadata": {},
     "output_type": "execute_result"
    }
   ],
   "source": [
    "df.IMPACTWF_U_LABEL.unique()"
   ]
  },
  {
   "cell_type": "code",
   "execution_count": 12,
   "metadata": {},
   "outputs": [],
   "source": [
    "df_data_list = ['Specialized Software: Increased skill level of workers employed by this business']"
   ]
  },
  {
   "cell_type": "code",
   "execution_count": 13,
   "metadata": {},
   "outputs": [],
   "source": [
    "df_spec_soft = df[df.IMPACTWF_U_LABEL.isin(df_data_list)]"
   ]
  },
  {
   "cell_type": "code",
   "execution_count": 14,
   "metadata": {},
   "outputs": [
    {
     "data": {
      "text/html": [
       "<div>\n",
       "<style scoped>\n",
       "    .dataframe tbody tr th:only-of-type {\n",
       "        vertical-align: middle;\n",
       "    }\n",
       "\n",
       "    .dataframe tbody tr th {\n",
       "        vertical-align: top;\n",
       "    }\n",
       "\n",
       "    .dataframe thead th {\n",
       "        text-align: right;\n",
       "    }\n",
       "</style>\n",
       "<table border=\"1\" class=\"dataframe\">\n",
       "  <thead>\n",
       "    <tr style=\"text-align: right;\">\n",
       "      <th></th>\n",
       "      <th>GEO_ID</th>\n",
       "      <th>NAME</th>\n",
       "      <th>EMP</th>\n",
       "      <th>RACE_GROUP</th>\n",
       "      <th>RACE_GROUP_LABEL</th>\n",
       "      <th>FIRMPDEMP</th>\n",
       "      <th>IMPACTWF_U</th>\n",
       "      <th>IMPACTWF_U_LABEL</th>\n",
       "      <th>NAICS2017</th>\n",
       "      <th>us</th>\n",
       "    </tr>\n",
       "  </thead>\n",
       "  <tbody>\n",
       "    <tr>\n",
       "      <th>count</th>\n",
       "      <td>9</td>\n",
       "      <td>9</td>\n",
       "      <td>9</td>\n",
       "      <td>9</td>\n",
       "      <td>9</td>\n",
       "      <td>9</td>\n",
       "      <td>9</td>\n",
       "      <td>9</td>\n",
       "      <td>9</td>\n",
       "      <td>9</td>\n",
       "    </tr>\n",
       "    <tr>\n",
       "      <th>unique</th>\n",
       "      <td>1</td>\n",
       "      <td>1</td>\n",
       "      <td>9</td>\n",
       "      <td>9</td>\n",
       "      <td>9</td>\n",
       "      <td>9</td>\n",
       "      <td>1</td>\n",
       "      <td>1</td>\n",
       "      <td>1</td>\n",
       "      <td>1</td>\n",
       "    </tr>\n",
       "    <tr>\n",
       "      <th>top</th>\n",
       "      <td>0100000US</td>\n",
       "      <td>United States</td>\n",
       "      <td>18143891</td>\n",
       "      <td>00</td>\n",
       "      <td>Total</td>\n",
       "      <td>458793</td>\n",
       "      <td>T3E11D04</td>\n",
       "      <td>Specialized Software: Increased skill level of...</td>\n",
       "      <td>00</td>\n",
       "      <td>1</td>\n",
       "    </tr>\n",
       "    <tr>\n",
       "      <th>freq</th>\n",
       "      <td>9</td>\n",
       "      <td>9</td>\n",
       "      <td>1</td>\n",
       "      <td>1</td>\n",
       "      <td>1</td>\n",
       "      <td>1</td>\n",
       "      <td>9</td>\n",
       "      <td>9</td>\n",
       "      <td>9</td>\n",
       "      <td>9</td>\n",
       "    </tr>\n",
       "  </tbody>\n",
       "</table>\n",
       "</div>"
      ],
      "text/plain": [
       "0          GEO_ID           NAME       EMP RACE_GROUP RACE_GROUP_LABEL  \\\n",
       "count           9              9         9          9                9   \n",
       "unique          1              1         9          9                9   \n",
       "top     0100000US  United States  18143891         00            Total   \n",
       "freq            9              9         1          1                1   \n",
       "\n",
       "0      FIRMPDEMP IMPACTWF_U  \\\n",
       "count          9          9   \n",
       "unique         9          1   \n",
       "top       458793   T3E11D04   \n",
       "freq           1          9   \n",
       "\n",
       "0                                        IMPACTWF_U_LABEL NAICS2017 us  \n",
       "count                                                   9         9  9  \n",
       "unique                                                  1         1  1  \n",
       "top     Specialized Software: Increased skill level of...        00  1  \n",
       "freq                                                    9         9  9  "
      ]
     },
     "execution_count": 14,
     "metadata": {},
     "output_type": "execute_result"
    }
   ],
   "source": [
    "df_spec_soft.describe()"
   ]
  },
  {
   "cell_type": "code",
   "execution_count": 15,
   "metadata": {},
   "outputs": [
    {
     "data": {
      "text/plain": [
       "array(['Total', 'White', 'Black or African American',\n",
       "       'American Indian and Alaska Native', 'Asian',\n",
       "       'Native Hawaiian and Other Pacific Islander', 'Minority',\n",
       "       'Equally minority/nonminority', 'Nonminority'], dtype=object)"
      ]
     },
     "execution_count": 15,
     "metadata": {},
     "output_type": "execute_result"
    }
   ],
   "source": [
    "df.RACE_GROUP_LABEL.unique()"
   ]
  },
  {
   "cell_type": "code",
   "execution_count": 16,
   "metadata": {},
   "outputs": [],
   "source": [
    "df_race_list = ['White', 'Black or African American',\n",
    "       'American Indian and Alaska Native', 'Asian',\n",
    "       'Native Hawaiian and Other Pacific Islander',\n",
    "       'Equally minority/nonminority']"
   ]
  },
  {
   "cell_type": "code",
   "execution_count": 17,
   "metadata": {},
   "outputs": [],
   "source": [
    "df_spec_soft = df_spec_soft[df_spec_soft.RACE_GROUP_LABEL.isin(df_race_list)]"
   ]
  },
  {
   "cell_type": "code",
   "execution_count": 18,
   "metadata": {},
   "outputs": [
    {
     "data": {
      "text/html": [
       "<div>\n",
       "<style scoped>\n",
       "    .dataframe tbody tr th:only-of-type {\n",
       "        vertical-align: middle;\n",
       "    }\n",
       "\n",
       "    .dataframe tbody tr th {\n",
       "        vertical-align: top;\n",
       "    }\n",
       "\n",
       "    .dataframe thead th {\n",
       "        text-align: right;\n",
       "    }\n",
       "</style>\n",
       "<table border=\"1\" class=\"dataframe\">\n",
       "  <thead>\n",
       "    <tr style=\"text-align: right;\">\n",
       "      <th></th>\n",
       "      <th>GEO_ID</th>\n",
       "      <th>NAME</th>\n",
       "      <th>EMP</th>\n",
       "      <th>RACE_GROUP</th>\n",
       "      <th>RACE_GROUP_LABEL</th>\n",
       "      <th>FIRMPDEMP</th>\n",
       "      <th>IMPACTWF_U</th>\n",
       "      <th>IMPACTWF_U_LABEL</th>\n",
       "      <th>NAICS2017</th>\n",
       "      <th>us</th>\n",
       "    </tr>\n",
       "  </thead>\n",
       "  <tbody>\n",
       "    <tr>\n",
       "      <th>191</th>\n",
       "      <td>0100000US</td>\n",
       "      <td>United States</td>\n",
       "      <td>22199</td>\n",
       "      <td>50</td>\n",
       "      <td>American Indian and Alaska Native</td>\n",
       "      <td>2346</td>\n",
       "      <td>T3E11D04</td>\n",
       "      <td>Specialized Software: Increased skill level of...</td>\n",
       "      <td>00</td>\n",
       "      <td>1</td>\n",
       "    </tr>\n",
       "    <tr>\n",
       "      <th>411</th>\n",
       "      <td>0100000US</td>\n",
       "      <td>United States</td>\n",
       "      <td>80702</td>\n",
       "      <td>91</td>\n",
       "      <td>Equally minority/nonminority</td>\n",
       "      <td>7319</td>\n",
       "      <td>T3E11D04</td>\n",
       "      <td>Specialized Software: Increased skill level of...</td>\n",
       "      <td>00</td>\n",
       "      <td>1</td>\n",
       "    </tr>\n",
       "    <tr>\n",
       "      <th>92</th>\n",
       "      <td>0100000US</td>\n",
       "      <td>United States</td>\n",
       "      <td>186196</td>\n",
       "      <td>40</td>\n",
       "      <td>Black or African American</td>\n",
       "      <td>11513</td>\n",
       "      <td>T3E11D04</td>\n",
       "      <td>Specialized Software: Increased skill level of...</td>\n",
       "      <td>00</td>\n",
       "      <td>1</td>\n",
       "    </tr>\n",
       "    <tr>\n",
       "      <th>246</th>\n",
       "      <td>0100000US</td>\n",
       "      <td>United States</td>\n",
       "      <td>547573</td>\n",
       "      <td>60</td>\n",
       "      <td>Asian</td>\n",
       "      <td>39330</td>\n",
       "      <td>T3E11D04</td>\n",
       "      <td>Specialized Software: Increased skill level of...</td>\n",
       "      <td>00</td>\n",
       "      <td>1</td>\n",
       "    </tr>\n",
       "    <tr>\n",
       "      <th>136</th>\n",
       "      <td>0100000US</td>\n",
       "      <td>United States</td>\n",
       "      <td>7342811</td>\n",
       "      <td>30</td>\n",
       "      <td>White</td>\n",
       "      <td>399933</td>\n",
       "      <td>T3E11D04</td>\n",
       "      <td>Specialized Software: Increased skill level of...</td>\n",
       "      <td>00</td>\n",
       "      <td>1</td>\n",
       "    </tr>\n",
       "  </tbody>\n",
       "</table>\n",
       "</div>"
      ],
      "text/plain": [
       "0       GEO_ID           NAME      EMP RACE_GROUP  \\\n",
       "191  0100000US  United States    22199         50   \n",
       "411  0100000US  United States    80702         91   \n",
       "92   0100000US  United States   186196         40   \n",
       "246  0100000US  United States   547573         60   \n",
       "136  0100000US  United States  7342811         30   \n",
       "\n",
       "0                     RACE_GROUP_LABEL FIRMPDEMP IMPACTWF_U  \\\n",
       "191  American Indian and Alaska Native      2346   T3E11D04   \n",
       "411       Equally minority/nonminority      7319   T3E11D04   \n",
       "92           Black or African American     11513   T3E11D04   \n",
       "246                              Asian     39330   T3E11D04   \n",
       "136                              White    399933   T3E11D04   \n",
       "\n",
       "0                                     IMPACTWF_U_LABEL NAICS2017 us  \n",
       "191  Specialized Software: Increased skill level of...        00  1  \n",
       "411  Specialized Software: Increased skill level of...        00  1  \n",
       "92   Specialized Software: Increased skill level of...        00  1  \n",
       "246  Specialized Software: Increased skill level of...        00  1  \n",
       "136  Specialized Software: Increased skill level of...        00  1  "
      ]
     },
     "execution_count": 18,
     "metadata": {},
     "output_type": "execute_result"
    }
   ],
   "source": [
    "df_spec_soft.EMP = df_spec_soft.EMP.astype(int)\n",
    "df_spec_soft = df_spec_soft.sort_values(by='EMP', ascending=True)\n",
    "df_spec_soft.tail()"
   ]
  },
  {
   "cell_type": "code",
   "execution_count": 56,
   "metadata": {},
   "outputs": [
    {
     "data": {
      "text/plain": [
       "RACE_GROUP_LABEL\n",
       "Native Hawaiian and Other Pacific Islander       4372\n",
       "American Indian and Alaska Native               22199\n",
       "Equally minority/nonminority                    80702\n",
       "Black or African American                      186196\n",
       "Asian                                          547573\n",
       "White                                         7342811\n",
       "Name: EMP, dtype: int32"
      ]
     },
     "execution_count": 56,
     "metadata": {},
     "output_type": "execute_result"
    }
   ],
   "source": [
    "race_sums = df_spec_soft.groupby(['RACE_GROUP_LABEL'])['EMP'].sum()\n",
    "race_sums = race_sums.sort_values(ascending=True)\n",
    "race_sums"
   ]
  },
  {
   "cell_type": "code",
   "execution_count": 65,
   "metadata": {},
   "outputs": [],
   "source": [
    "df_data_list_2 =['Specialized Equipment: Increased number of workers employed by this business',\n",
    "       'Specialized Equipment: Decreased number of workers employed by this business',\n",
    "       'Specialized Equipment: Did not change number of workers employed by this business',\n",
    "       'Specialized Equipment: Increased skill level of workers employed by this business',\n",
    "       'Specialized Equipment: Decreased skill level of workers employed by this business',\n",
    "       'Specialized Equipment: Did not change skill level of workers employed by this business',\n",
    "       'Specialized Equipment: Increased STEM skills of workers employed by this business',\n",
    "       'Specialized Equipment: Decreased STEM skills of workers employed by this business',\n",
    "       'Specialized Equipment: Did not change STEM skills of workers employed by this business',\n",
    "       'Specialized Equipment: Not applicable, did not employ workers with STEM skills',\n",
    "       'Specialized Equipment: Total Reporting']"
   ]
  },
  {
   "cell_type": "code",
   "execution_count": 66,
   "metadata": {},
   "outputs": [],
   "source": [
    "df_spec_soft_2 = df[df.IMPACTWF_U_LABEL.isin(df_data_list_2)]"
   ]
  },
  {
   "cell_type": "code",
   "execution_count": 67,
   "metadata": {},
   "outputs": [],
   "source": [
    "df_spec_soft_2 = df_spec_soft_2[df_spec_soft_2.RACE_GROUP_LABEL.isin(df_race_list)]"
   ]
  },
  {
   "cell_type": "code",
   "execution_count": 68,
   "metadata": {},
   "outputs": [
    {
     "data": {
      "text/html": [
       "<div>\n",
       "<style scoped>\n",
       "    .dataframe tbody tr th:only-of-type {\n",
       "        vertical-align: middle;\n",
       "    }\n",
       "\n",
       "    .dataframe tbody tr th {\n",
       "        vertical-align: top;\n",
       "    }\n",
       "\n",
       "    .dataframe thead th {\n",
       "        text-align: right;\n",
       "    }\n",
       "</style>\n",
       "<table border=\"1\" class=\"dataframe\">\n",
       "  <thead>\n",
       "    <tr style=\"text-align: right;\">\n",
       "      <th></th>\n",
       "      <th>GEO_ID</th>\n",
       "      <th>NAME</th>\n",
       "      <th>EMP</th>\n",
       "      <th>RACE_GROUP</th>\n",
       "      <th>RACE_GROUP_LABEL</th>\n",
       "      <th>FIRMPDEMP</th>\n",
       "      <th>IMPACTWF_U</th>\n",
       "      <th>IMPACTWF_U_LABEL</th>\n",
       "      <th>NAICS2017</th>\n",
       "      <th>us</th>\n",
       "    </tr>\n",
       "  </thead>\n",
       "  <tbody>\n",
       "    <tr>\n",
       "      <th>164</th>\n",
       "      <td>0100000US</td>\n",
       "      <td>United States</td>\n",
       "      <td>3574446</td>\n",
       "      <td>30</td>\n",
       "      <td>White</td>\n",
       "      <td>268023</td>\n",
       "      <td>T5E17D10</td>\n",
       "      <td>Specialized Equipment: Not applicable, did not...</td>\n",
       "      <td>00</td>\n",
       "      <td>1</td>\n",
       "    </tr>\n",
       "    <tr>\n",
       "      <th>163</th>\n",
       "      <td>0100000US</td>\n",
       "      <td>United States</td>\n",
       "      <td>7267100</td>\n",
       "      <td>30</td>\n",
       "      <td>White</td>\n",
       "      <td>370537</td>\n",
       "      <td>T5E17D09</td>\n",
       "      <td>Specialized Equipment: Did not change STEM ski...</td>\n",
       "      <td>00</td>\n",
       "      <td>1</td>\n",
       "    </tr>\n",
       "    <tr>\n",
       "      <th>160</th>\n",
       "      <td>0100000US</td>\n",
       "      <td>United States</td>\n",
       "      <td>9582415</td>\n",
       "      <td>30</td>\n",
       "      <td>White</td>\n",
       "      <td>555677</td>\n",
       "      <td>T5E17D06</td>\n",
       "      <td>Specialized Equipment: Did not change skill le...</td>\n",
       "      <td>00</td>\n",
       "      <td>1</td>\n",
       "    </tr>\n",
       "    <tr>\n",
       "      <th>157</th>\n",
       "      <td>0100000US</td>\n",
       "      <td>United States</td>\n",
       "      <td>10476362</td>\n",
       "      <td>30</td>\n",
       "      <td>White</td>\n",
       "      <td>659183</td>\n",
       "      <td>T5E17D03</td>\n",
       "      <td>Specialized Equipment: Did not change number o...</td>\n",
       "      <td>00</td>\n",
       "      <td>1</td>\n",
       "    </tr>\n",
       "    <tr>\n",
       "      <th>165</th>\n",
       "      <td>0100000US</td>\n",
       "      <td>United States</td>\n",
       "      <td>13179564</td>\n",
       "      <td>30</td>\n",
       "      <td>White</td>\n",
       "      <td>758454</td>\n",
       "      <td>T5E17D99</td>\n",
       "      <td>Specialized Equipment: Total Reporting</td>\n",
       "      <td>00</td>\n",
       "      <td>1</td>\n",
       "    </tr>\n",
       "  </tbody>\n",
       "</table>\n",
       "</div>"
      ],
      "text/plain": [
       "0       GEO_ID           NAME       EMP RACE_GROUP RACE_GROUP_LABEL FIRMPDEMP  \\\n",
       "164  0100000US  United States   3574446         30            White    268023   \n",
       "163  0100000US  United States   7267100         30            White    370537   \n",
       "160  0100000US  United States   9582415         30            White    555677   \n",
       "157  0100000US  United States  10476362         30            White    659183   \n",
       "165  0100000US  United States  13179564         30            White    758454   \n",
       "\n",
       "0   IMPACTWF_U                                   IMPACTWF_U_LABEL NAICS2017 us  \n",
       "164   T5E17D10  Specialized Equipment: Not applicable, did not...        00  1  \n",
       "163   T5E17D09  Specialized Equipment: Did not change STEM ski...        00  1  \n",
       "160   T5E17D06  Specialized Equipment: Did not change skill le...        00  1  \n",
       "157   T5E17D03  Specialized Equipment: Did not change number o...        00  1  \n",
       "165   T5E17D99             Specialized Equipment: Total Reporting        00  1  "
      ]
     },
     "execution_count": 68,
     "metadata": {},
     "output_type": "execute_result"
    }
   ],
   "source": [
    "df_spec_soft_2.EMP = df_spec_soft_2.EMP.astype(int)\n",
    "df_spec_soft_2 = df_spec_soft_2.sort_values(by='EMP', ascending=True)\n",
    "df_spec_soft_2.tail()"
   ]
  },
  {
   "cell_type": "code",
   "execution_count": 70,
   "metadata": {},
   "outputs": [
    {
     "data": {
      "text/plain": [
       "RACE_GROUP_LABEL\n",
       "Native Hawaiian and Other Pacific Islander       23109\n",
       "American Indian and Alaska Native               161761\n",
       "Black or African American                       774437\n",
       "Equally minority/nonminority                    783865\n",
       "Asian                                          2916564\n",
       "White                                         52718255\n",
       "Name: EMP, dtype: int32"
      ]
     },
     "execution_count": 70,
     "metadata": {},
     "output_type": "execute_result"
    }
   ],
   "source": [
    "race_sums_2 = df_spec_soft_2.groupby(['RACE_GROUP_LABEL'])['EMP'].sum()\n",
    "race_sums_2 = race_sums_2.sort_values(ascending=True)\n",
    "race_sums_2"
   ]
  },
  {
   "cell_type": "code",
   "execution_count": 72,
   "metadata": {},
   "outputs": [
    {
     "data": {
      "image/png": "[encoded data removed]",
      "text/plain": [
       "<Figure size 432x288 with 1 Axes>"
      ]
     },
     "metadata": {},
     "output_type": "display_data"
    },
    {
     "data": {
      "text/plain": [
       "<Figure size 432x288 with 0 Axes>"
      ]
     },
     "metadata": {},
     "output_type": "display_data"
    }
   ],
   "source": [
    "sns.set_theme(style=\"whitegrid\", palette='pastel')\n",
    "ax = race_sums_2.plot(title = 'Total Number of Employees by Race Group',x='RACE_GROUP_LABEL', y='EMP', kind = 'barh')\n",
    "\n",
    "ax.set_xlabel('EMP')\n",
    "ax.set_ylabel('NAME')\n",
    "\n",
    "ax.set(xlim=(0, 5000000), ylabel=\"Race Groups\",\n",
    "       xlabel=\"Total Number of Employees (in millions)\")\n",
    "ax.set_xticks([0, 1000000, 2000000, 3000000, 4000000, 5000000])\n",
    "\n",
    "plt.show()\n",
    "plt.savefig('nt-vis-2.png')"
   ]
  },
  {
   "cell_type": "code",
   "execution_count": 73,
   "metadata": {},
   "outputs": [
    {
     "data": {
      "image/png": "[encoded data removed]",
      "text/plain": [
       "<Figure size 432x288 with 1 Axes>"
      ]
     },
     "metadata": {},
     "output_type": "display_data"
    },
    {
     "data": {
      "text/plain": [
       "<Figure size 432x288 with 0 Axes>"
      ]
     },
     "metadata": {},
     "output_type": "display_data"
    }
   ],
   "source": [
    "sns.set_theme(style=\"whitegrid\", palette='pastel')\n",
    "ax = race_sums_2.plot(title = 'Total Number of Employees by Race Group',x='RACE_GROUP_LABEL', y='EMP', kind = 'barh')\n",
    "\n",
    "ax.set_xlabel('EMP')\n",
    "ax.set_ylabel('NAME')\n",
    "\n",
    "ax.set(xlim=(0, 60000000), ylabel=\"Race Groups\",\n",
    "       xlabel=\"Total Number of Employees (in tens of millions)\")\n",
    "ax.set_xticks([0, 10000000, 20000000, 30000000, 40000000, 50000000, 60000000])\n",
    "\n",
    "plt.show()\n",
    "plt.savefig('nt-vis-1.png')"
   ]
  },
  {
   "cell_type": "code",
   "execution_count": 23,
   "metadata": {},
   "outputs": [
    {
     "data": {
      "text/html": [
       "<div>\n",
       "<style scoped>\n",
       "    .dataframe tbody tr th:only-of-type {\n",
       "        vertical-align: middle;\n",
       "    }\n",
       "\n",
       "    .dataframe tbody tr th {\n",
       "        vertical-align: top;\n",
       "    }\n",
       "\n",
       "    .dataframe thead th {\n",
       "        text-align: right;\n",
       "    }\n",
       "</style>\n",
       "<table border=\"1\" class=\"dataframe\">\n",
       "  <thead>\n",
       "    <tr style=\"text-align: right;\">\n",
       "      <th></th>\n",
       "      <th>GEO_ID</th>\n",
       "      <th>NAME</th>\n",
       "      <th>EMP</th>\n",
       "      <th>RACE_GROUP</th>\n",
       "      <th>RACE_GROUP_LABEL</th>\n",
       "      <th>FIRMPDEMP</th>\n",
       "      <th>IMPACTWF_U</th>\n",
       "      <th>IMPACTWF_U_LABEL</th>\n",
       "      <th>NAICS2017</th>\n",
       "      <th>us</th>\n",
       "    </tr>\n",
       "  </thead>\n",
       "  <tbody>\n",
       "    <tr>\n",
       "      <th>301</th>\n",
       "      <td>0100000US</td>\n",
       "      <td>United States</td>\n",
       "      <td>4372</td>\n",
       "      <td>70</td>\n",
       "      <td>Native Hawaiian and Other Pacific Islander</td>\n",
       "      <td>292</td>\n",
       "      <td>T3E11D04</td>\n",
       "      <td>Specialized Software: Increased skill level of...</td>\n",
       "      <td>00</td>\n",
       "      <td>1</td>\n",
       "    </tr>\n",
       "    <tr>\n",
       "      <th>191</th>\n",
       "      <td>0100000US</td>\n",
       "      <td>United States</td>\n",
       "      <td>22199</td>\n",
       "      <td>50</td>\n",
       "      <td>American Indian and Alaska Native</td>\n",
       "      <td>2346</td>\n",
       "      <td>T3E11D04</td>\n",
       "      <td>Specialized Software: Increased skill level of...</td>\n",
       "      <td>00</td>\n",
       "      <td>1</td>\n",
       "    </tr>\n",
       "    <tr>\n",
       "      <th>411</th>\n",
       "      <td>0100000US</td>\n",
       "      <td>United States</td>\n",
       "      <td>80702</td>\n",
       "      <td>91</td>\n",
       "      <td>Equally minority/nonminority</td>\n",
       "      <td>7319</td>\n",
       "      <td>T3E11D04</td>\n",
       "      <td>Specialized Software: Increased skill level of...</td>\n",
       "      <td>00</td>\n",
       "      <td>1</td>\n",
       "    </tr>\n",
       "    <tr>\n",
       "      <th>92</th>\n",
       "      <td>0100000US</td>\n",
       "      <td>United States</td>\n",
       "      <td>186196</td>\n",
       "      <td>40</td>\n",
       "      <td>Black or African American</td>\n",
       "      <td>11513</td>\n",
       "      <td>T3E11D04</td>\n",
       "      <td>Specialized Software: Increased skill level of...</td>\n",
       "      <td>00</td>\n",
       "      <td>1</td>\n",
       "    </tr>\n",
       "    <tr>\n",
       "      <th>246</th>\n",
       "      <td>0100000US</td>\n",
       "      <td>United States</td>\n",
       "      <td>547573</td>\n",
       "      <td>60</td>\n",
       "      <td>Asian</td>\n",
       "      <td>39330</td>\n",
       "      <td>T3E11D04</td>\n",
       "      <td>Specialized Software: Increased skill level of...</td>\n",
       "      <td>00</td>\n",
       "      <td>1</td>\n",
       "    </tr>\n",
       "    <tr>\n",
       "      <th>136</th>\n",
       "      <td>0100000US</td>\n",
       "      <td>United States</td>\n",
       "      <td>7342811</td>\n",
       "      <td>30</td>\n",
       "      <td>White</td>\n",
       "      <td>399933</td>\n",
       "      <td>T3E11D04</td>\n",
       "      <td>Specialized Software: Increased skill level of...</td>\n",
       "      <td>00</td>\n",
       "      <td>1</td>\n",
       "    </tr>\n",
       "  </tbody>\n",
       "</table>\n",
       "</div>"
      ],
      "text/plain": [
       "0       GEO_ID           NAME      EMP RACE_GROUP  \\\n",
       "301  0100000US  United States     4372         70   \n",
       "191  0100000US  United States    22199         50   \n",
       "411  0100000US  United States    80702         91   \n",
       "92   0100000US  United States   186196         40   \n",
       "246  0100000US  United States   547573         60   \n",
       "136  0100000US  United States  7342811         30   \n",
       "\n",
       "0                              RACE_GROUP_LABEL FIRMPDEMP IMPACTWF_U  \\\n",
       "301  Native Hawaiian and Other Pacific Islander       292   T3E11D04   \n",
       "191           American Indian and Alaska Native      2346   T3E11D04   \n",
       "411                Equally minority/nonminority      7319   T3E11D04   \n",
       "92                    Black or African American     11513   T3E11D04   \n",
       "246                                       Asian     39330   T3E11D04   \n",
       "136                                       White    399933   T3E11D04   \n",
       "\n",
       "0                                     IMPACTWF_U_LABEL NAICS2017 us  \n",
       "301  Specialized Software: Increased skill level of...        00  1  \n",
       "191  Specialized Software: Increased skill level of...        00  1  \n",
       "411  Specialized Software: Increased skill level of...        00  1  \n",
       "92   Specialized Software: Increased skill level of...        00  1  \n",
       "246  Specialized Software: Increased skill level of...        00  1  \n",
       "136  Specialized Software: Increased skill level of...        00  1  "
      ]
     },
     "execution_count": 23,
     "metadata": {},
     "output_type": "execute_result"
    }
   ],
   "source": [
    "df_spec_soft"
   ]
  },
  {
   "cell_type": "code",
   "execution_count": 51,
   "metadata": {},
   "outputs": [
    {
     "data": {
      "image/png": "[encoded data removed]",
      "text/plain": [
       "<Figure size 432x288 with 1 Axes>"
      ]
     },
     "metadata": {},
     "output_type": "display_data"
    },
    {
     "data": {
      "text/plain": [
       "<Figure size 432x288 with 0 Axes>"
      ]
     },
     "metadata": {},
     "output_type": "display_data"
    }
   ],
   "source": [
    "sns.set_theme(style=\"darkgrid\", palette='pastel')\n",
    "ax = race_sums.plot(title = 'Specialized Software: Number of Employees reporting Increased skill level by Race',x='RACE_GROUP_LABEL', y='EMP', kind = 'bar')\n",
    "\n",
    "ax.set_xlabel('EMP')\n",
    "ax.set_ylabel('NAME')\n",
    "\n",
    "ax.set(ylim=(0, 8000000), ylabel=\"Number of Employees (in millions)\",\n",
    "       xlabel=\"Race Groups\")\n",
    "\n",
    "plt.xticks(rotation=90)\n",
    "plt.show()\n",
    "plt.savefig('nt-vis-3.png')"
   ]
  },
  {
   "cell_type": "code",
   "execution_count": 52,
   "metadata": {},
   "outputs": [
    {
     "data": {
      "image/png": "[encoded data removed]",
      "text/plain": [
       "<Figure size 432x288 with 1 Axes>"
      ]
     },
     "metadata": {},
     "output_type": "display_data"
    },
    {
     "data": {
      "text/plain": [
       "<Figure size 432x288 with 0 Axes>"
      ]
     },
     "metadata": {},
     "output_type": "display_data"
    }
   ],
   "source": [
    "sns.set_theme(style=\"darkgrid\", palette='pastel')\n",
    "ax = race_sums.plot(title = 'Specialized Software: Number of Employees reporting Increased skill level by Race',x='RACE_GROUP_LABEL', y='EMP', kind = 'bar')\n",
    "\n",
    "ax.set_xlabel('EMP')\n",
    "ax.set_ylabel('NAME')\n",
    "\n",
    "ax.set(ylim=(0, 700000), ylabel=\"Number of Employees\",\n",
    "       xlabel=\"Race Groups\")\n",
    "\n",
    "\n",
    "plt.xticks(rotation=90)\n",
    "plt.show()\n",
    "plt.savefig('nt-vis-4.png')"
   ]
  },
  {
   "cell_type": "code",
   "execution_count": 26,
   "metadata": {},
   "outputs": [],
   "source": [
    "response_3 = requests.get(f'https://api.census.gov/data/2018/abstcb?get=GEO_ID,NAME,EMP,RACE_GROUP,RACE_GROUP_LABEL,FIRMPDEMP,TECHUSE,TECHUSE_LABEL&for=us:*&NAICS2017=00&key={api_key}')"
   ]
  },
  {
   "cell_type": "code",
   "execution_count": 27,
   "metadata": {},
   "outputs": [],
   "source": [
    "html = response_3.text"
   ]
  },
  {
   "cell_type": "code",
   "execution_count": 28,
   "metadata": {},
   "outputs": [
    {
     "data": {
      "text/plain": [
       "<Response [200]>"
      ]
     },
     "execution_count": 28,
     "metadata": {},
     "output_type": "execute_result"
    }
   ],
   "source": [
    "response_3"
   ]
  },
  {
   "cell_type": "code",
   "execution_count": 29,
   "metadata": {},
   "outputs": [
    {
     "name": "stdout",
     "output_type": "stream",
     "text": [
      "<class 'list'>\n"
     ]
    }
   ],
   "source": [
    "census_json_3 = response_3.json()\n",
    "print(type(census_json_3))\n"
   ]
  },
  {
   "cell_type": "code",
   "execution_count": 30,
   "metadata": {},
   "outputs": [],
   "source": [
    "df_3 = pd.DataFrame(census_json_3)\n",
    "#this replaces the column names with the values of the 0th row\n",
    "df_3.columns = df_3.loc[0]\n",
    "#Drop looks for rows by default, so we don't need to specify. this will remove the 0'th row\n",
    "df_3.drop(0, inplace=True)"
   ]
  },
  {
   "cell_type": "code",
   "execution_count": 31,
   "metadata": {},
   "outputs": [
    {
     "data": {
      "text/plain": [
       "(360, 10)"
      ]
     },
     "execution_count": 31,
     "metadata": {},
     "output_type": "execute_result"
    }
   ],
   "source": [
    "df_3.shape"
   ]
  },
  {
   "cell_type": "code",
   "execution_count": 32,
   "metadata": {},
   "outputs": [
    {
     "data": {
      "text/plain": [
       "Index(['GEO_ID', 'NAME', 'EMP', 'RACE_GROUP', 'RACE_GROUP_LABEL', 'FIRMPDEMP',\n",
       "       'TECHUSE', 'TECHUSE_LABEL', 'NAICS2017', 'us'],\n",
       "      dtype='object', name=0)"
      ]
     },
     "execution_count": 32,
     "metadata": {},
     "output_type": "execute_result"
    }
   ],
   "source": [
    "df_3.columns"
   ]
  },
  {
   "cell_type": "code",
   "execution_count": 33,
   "metadata": {},
   "outputs": [
    {
     "data": {
      "text/plain": [
       "array(['Artificial Intelligence: Did not use',\n",
       "       'Artificial Intelligence: Tested, but did not use in production or service',\n",
       "       'Artificial Intelligence: Low use',\n",
       "       'Artificial Intelligence: Moderate use',\n",
       "       'Artificial Intelligence: High use',\n",
       "       \"Artificial Intelligence: Don't know\",\n",
       "       'Artificial Intelligence: Total use',\n",
       "       'Artificial Intelligence: Total Reporting',\n",
       "       'Cloud-Based: Did not use', 'Robotics: High use',\n",
       "       \"Robotics: Don't know\", 'Robotics: Total use',\n",
       "       'Robotics: Total Reporting', 'Specialized Equipment: Did not use',\n",
       "       'Specialized Equipment: Tested, but did not use in production or service',\n",
       "       'Specialized Equipment: Low use',\n",
       "       'Specialized Equipment: Moderate use',\n",
       "       'Specialized Equipment: High use',\n",
       "       \"Specialized Equipment: Don't know\",\n",
       "       'Specialized Equipment: Total use',\n",
       "       'Specialized Equipment: Total Reporting',\n",
       "       'Cloud-Based: Tested, but did not use in production or service',\n",
       "       'Cloud-Based: Low use', 'Cloud-Based: Moderate use',\n",
       "       'Cloud-Based: High use', \"Cloud-Based: Don't know\",\n",
       "       'Cloud-Based: Total use', 'Cloud-Based: Total Reporting',\n",
       "       'Specialized Software: Did not use',\n",
       "       'Specialized Software: Tested, but did not use in production or service',\n",
       "       'Specialized Software: Low use',\n",
       "       'Specialized Software: Moderate use',\n",
       "       'Specialized Software: High use',\n",
       "       \"Specialized Software: Don't know\",\n",
       "       'Specialized Software: Total use',\n",
       "       'Specialized Software: Total Reporting', 'Robotics: Did not use',\n",
       "       'Robotics: Tested, but did not use in production or service',\n",
       "       'Robotics: Low use', 'Robotics: Moderate use'], dtype=object)"
      ]
     },
     "execution_count": 33,
     "metadata": {},
     "output_type": "execute_result"
    }
   ],
   "source": [
    "df_3.TECHUSE_LABEL.unique()"
   ]
  },
  {
   "cell_type": "code",
   "execution_count": 34,
   "metadata": {},
   "outputs": [],
   "source": [
    "df_3_data_list = ['Specialized Software: High use']"
   ]
  },
  {
   "cell_type": "code",
   "execution_count": 35,
   "metadata": {},
   "outputs": [],
   "source": [
    "df_3_tech_use = df_3[df_3.TECHUSE_LABEL.isin(df_3_data_list)]"
   ]
  },
  {
   "cell_type": "code",
   "execution_count": 36,
   "metadata": {},
   "outputs": [],
   "source": [
    "df_3_race_list = ['White', 'Black or African American',\n",
    "       'American Indian and Alaska Native', 'Asian',\n",
    "       'Native Hawaiian and Other Pacific Islander',\n",
    "       'Equally minority/nonminority']"
   ]
  },
  {
   "cell_type": "code",
   "execution_count": 37,
   "metadata": {},
   "outputs": [],
   "source": [
    "df_3_tech_use = df_3_tech_use[df_3_tech_use.RACE_GROUP_LABEL.isin(df_3_race_list)]"
   ]
  },
  {
   "cell_type": "code",
   "execution_count": 38,
   "metadata": {},
   "outputs": [
    {
     "data": {
      "text/html": [
       "<div>\n",
       "<style scoped>\n",
       "    .dataframe tbody tr th:only-of-type {\n",
       "        vertical-align: middle;\n",
       "    }\n",
       "\n",
       "    .dataframe tbody tr th {\n",
       "        vertical-align: top;\n",
       "    }\n",
       "\n",
       "    .dataframe thead th {\n",
       "        text-align: right;\n",
       "    }\n",
       "</style>\n",
       "<table border=\"1\" class=\"dataframe\">\n",
       "  <thead>\n",
       "    <tr style=\"text-align: right;\">\n",
       "      <th></th>\n",
       "      <th>GEO_ID</th>\n",
       "      <th>NAME</th>\n",
       "      <th>EMP</th>\n",
       "      <th>RACE_GROUP</th>\n",
       "      <th>RACE_GROUP_LABEL</th>\n",
       "      <th>FIRMPDEMP</th>\n",
       "      <th>TECHUSE</th>\n",
       "      <th>TECHUSE_LABEL</th>\n",
       "      <th>NAICS2017</th>\n",
       "      <th>us</th>\n",
       "    </tr>\n",
       "  </thead>\n",
       "  <tbody>\n",
       "    <tr>\n",
       "      <th>221</th>\n",
       "      <td>0100000US</td>\n",
       "      <td>United States</td>\n",
       "      <td>7279</td>\n",
       "      <td>70</td>\n",
       "      <td>Native Hawaiian and Other Pacific Islander</td>\n",
       "      <td>739</td>\n",
       "      <td>T3E03B05</td>\n",
       "      <td>Specialized Software: High use</td>\n",
       "      <td>00</td>\n",
       "      <td>1</td>\n",
       "    </tr>\n",
       "    <tr>\n",
       "      <th>105</th>\n",
       "      <td>0100000US</td>\n",
       "      <td>United States</td>\n",
       "      <td>42017</td>\n",
       "      <td>50</td>\n",
       "      <td>American Indian and Alaska Native</td>\n",
       "      <td>3963</td>\n",
       "      <td>T3E03B05</td>\n",
       "      <td>Specialized Software: High use</td>\n",
       "      <td>00</td>\n",
       "      <td>1</td>\n",
       "    </tr>\n",
       "    <tr>\n",
       "      <th>131</th>\n",
       "      <td>0100000US</td>\n",
       "      <td>United States</td>\n",
       "      <td>188358</td>\n",
       "      <td>40</td>\n",
       "      <td>Black or African American</td>\n",
       "      <td>16148</td>\n",
       "      <td>T3E03B05</td>\n",
       "      <td>Specialized Software: High use</td>\n",
       "      <td>00</td>\n",
       "      <td>1</td>\n",
       "    </tr>\n",
       "    <tr>\n",
       "      <th>301</th>\n",
       "      <td>0100000US</td>\n",
       "      <td>United States</td>\n",
       "      <td>206154</td>\n",
       "      <td>91</td>\n",
       "      <td>Equally minority/nonminority</td>\n",
       "      <td>14785</td>\n",
       "      <td>T3E03B05</td>\n",
       "      <td>Specialized Software: High use</td>\n",
       "      <td>00</td>\n",
       "      <td>1</td>\n",
       "    </tr>\n",
       "    <tr>\n",
       "      <th>169</th>\n",
       "      <td>0100000US</td>\n",
       "      <td>United States</td>\n",
       "      <td>757385</td>\n",
       "      <td>60</td>\n",
       "      <td>Asian</td>\n",
       "      <td>55644</td>\n",
       "      <td>T3E03B05</td>\n",
       "      <td>Specialized Software: High use</td>\n",
       "      <td>00</td>\n",
       "      <td>1</td>\n",
       "    </tr>\n",
       "    <tr>\n",
       "      <th>63</th>\n",
       "      <td>0100000US</td>\n",
       "      <td>United States</td>\n",
       "      <td>12916602</td>\n",
       "      <td>30</td>\n",
       "      <td>White</td>\n",
       "      <td>719143</td>\n",
       "      <td>T3E03B05</td>\n",
       "      <td>Specialized Software: High use</td>\n",
       "      <td>00</td>\n",
       "      <td>1</td>\n",
       "    </tr>\n",
       "  </tbody>\n",
       "</table>\n",
       "</div>"
      ],
      "text/plain": [
       "0       GEO_ID           NAME       EMP RACE_GROUP  \\\n",
       "221  0100000US  United States      7279         70   \n",
       "105  0100000US  United States     42017         50   \n",
       "131  0100000US  United States    188358         40   \n",
       "301  0100000US  United States    206154         91   \n",
       "169  0100000US  United States    757385         60   \n",
       "63   0100000US  United States  12916602         30   \n",
       "\n",
       "0                              RACE_GROUP_LABEL FIRMPDEMP   TECHUSE  \\\n",
       "221  Native Hawaiian and Other Pacific Islander       739  T3E03B05   \n",
       "105           American Indian and Alaska Native      3963  T3E03B05   \n",
       "131                   Black or African American     16148  T3E03B05   \n",
       "301                Equally minority/nonminority     14785  T3E03B05   \n",
       "169                                       Asian     55644  T3E03B05   \n",
       "63                                        White    719143  T3E03B05   \n",
       "\n",
       "0                     TECHUSE_LABEL NAICS2017 us  \n",
       "221  Specialized Software: High use        00  1  \n",
       "105  Specialized Software: High use        00  1  \n",
       "131  Specialized Software: High use        00  1  \n",
       "301  Specialized Software: High use        00  1  \n",
       "169  Specialized Software: High use        00  1  \n",
       "63   Specialized Software: High use        00  1  "
      ]
     },
     "execution_count": 38,
     "metadata": {},
     "output_type": "execute_result"
    }
   ],
   "source": [
    "df_3_tech_use.EMP = df_3_tech_use.EMP.astype(int)\n",
    "df_3_tech_use = df_3_tech_use.sort_values(by='EMP', ascending=True)\n",
    "df_3_tech_use.tail(20)"
   ]
  },
  {
   "cell_type": "code",
   "execution_count": 39,
   "metadata": {},
   "outputs": [
    {
     "data": {
      "text/plain": [
       "RACE_GROUP_LABEL\n",
       "Native Hawaiian and Other Pacific Islander        7279\n",
       "American Indian and Alaska Native                42017\n",
       "Black or African American                       188358\n",
       "Equally minority/nonminority                    206154\n",
       "Asian                                           757385\n",
       "White                                         12916602\n",
       "Name: EMP, dtype: int32"
      ]
     },
     "execution_count": 39,
     "metadata": {},
     "output_type": "execute_result"
    }
   ],
   "source": [
    "race_sums_3 = df_3_tech_use.groupby(['RACE_GROUP_LABEL'])['EMP'].sum()\n",
    "race_sums_3 = race_sums_3.sort_values(ascending=True)\n",
    "race_sums_3"
   ]
  },
  {
   "cell_type": "code",
   "execution_count": 40,
   "metadata": {},
   "outputs": [],
   "source": [
    "df_data_list_4 = ['Specialized Software: Moderate use']"
   ]
  },
  {
   "cell_type": "code",
   "execution_count": 42,
   "metadata": {},
   "outputs": [],
   "source": [
    "df_tech_use_4 = df_3[df_3.TECHUSE_LABEL.isin(df_data_list_4)]"
   ]
  },
  {
   "cell_type": "code",
   "execution_count": 43,
   "metadata": {},
   "outputs": [],
   "source": [
    "df_tech_use_4 = df_tech_use_4[df_tech_use_4.RACE_GROUP_LABEL.isin(df_race_list)]"
   ]
  },
  {
   "cell_type": "code",
   "execution_count": 45,
   "metadata": {},
   "outputs": [
    {
     "data": {
      "text/html": [
       "<div>\n",
       "<style scoped>\n",
       "    .dataframe tbody tr th:only-of-type {\n",
       "        vertical-align: middle;\n",
       "    }\n",
       "\n",
       "    .dataframe tbody tr th {\n",
       "        vertical-align: top;\n",
       "    }\n",
       "\n",
       "    .dataframe thead th {\n",
       "        text-align: right;\n",
       "    }\n",
       "</style>\n",
       "<table border=\"1\" class=\"dataframe\">\n",
       "  <thead>\n",
       "    <tr style=\"text-align: right;\">\n",
       "      <th></th>\n",
       "      <th>GEO_ID</th>\n",
       "      <th>NAME</th>\n",
       "      <th>EMP</th>\n",
       "      <th>RACE_GROUP</th>\n",
       "      <th>RACE_GROUP_LABEL</th>\n",
       "      <th>FIRMPDEMP</th>\n",
       "      <th>TECHUSE</th>\n",
       "      <th>TECHUSE_LABEL</th>\n",
       "      <th>NAICS2017</th>\n",
       "      <th>us</th>\n",
       "    </tr>\n",
       "  </thead>\n",
       "  <tbody>\n",
       "    <tr>\n",
       "      <th>221</th>\n",
       "      <td>0100000US</td>\n",
       "      <td>United States</td>\n",
       "      <td>7279</td>\n",
       "      <td>70</td>\n",
       "      <td>Native Hawaiian and Other Pacific Islander</td>\n",
       "      <td>739</td>\n",
       "      <td>T3E03B05</td>\n",
       "      <td>Specialized Software: High use</td>\n",
       "      <td>00</td>\n",
       "      <td>1</td>\n",
       "    </tr>\n",
       "    <tr>\n",
       "      <th>105</th>\n",
       "      <td>0100000US</td>\n",
       "      <td>United States</td>\n",
       "      <td>42017</td>\n",
       "      <td>50</td>\n",
       "      <td>American Indian and Alaska Native</td>\n",
       "      <td>3963</td>\n",
       "      <td>T3E03B05</td>\n",
       "      <td>Specialized Software: High use</td>\n",
       "      <td>00</td>\n",
       "      <td>1</td>\n",
       "    </tr>\n",
       "    <tr>\n",
       "      <th>131</th>\n",
       "      <td>0100000US</td>\n",
       "      <td>United States</td>\n",
       "      <td>188358</td>\n",
       "      <td>40</td>\n",
       "      <td>Black or African American</td>\n",
       "      <td>16148</td>\n",
       "      <td>T3E03B05</td>\n",
       "      <td>Specialized Software: High use</td>\n",
       "      <td>00</td>\n",
       "      <td>1</td>\n",
       "    </tr>\n",
       "    <tr>\n",
       "      <th>301</th>\n",
       "      <td>0100000US</td>\n",
       "      <td>United States</td>\n",
       "      <td>206154</td>\n",
       "      <td>91</td>\n",
       "      <td>Equally minority/nonminority</td>\n",
       "      <td>14785</td>\n",
       "      <td>T3E03B05</td>\n",
       "      <td>Specialized Software: High use</td>\n",
       "      <td>00</td>\n",
       "      <td>1</td>\n",
       "    </tr>\n",
       "    <tr>\n",
       "      <th>169</th>\n",
       "      <td>0100000US</td>\n",
       "      <td>United States</td>\n",
       "      <td>757385</td>\n",
       "      <td>60</td>\n",
       "      <td>Asian</td>\n",
       "      <td>55644</td>\n",
       "      <td>T3E03B05</td>\n",
       "      <td>Specialized Software: High use</td>\n",
       "      <td>00</td>\n",
       "      <td>1</td>\n",
       "    </tr>\n",
       "    <tr>\n",
       "      <th>63</th>\n",
       "      <td>0100000US</td>\n",
       "      <td>United States</td>\n",
       "      <td>12916602</td>\n",
       "      <td>30</td>\n",
       "      <td>White</td>\n",
       "      <td>719143</td>\n",
       "      <td>T3E03B05</td>\n",
       "      <td>Specialized Software: High use</td>\n",
       "      <td>00</td>\n",
       "      <td>1</td>\n",
       "    </tr>\n",
       "  </tbody>\n",
       "</table>\n",
       "</div>"
      ],
      "text/plain": [
       "0       GEO_ID           NAME       EMP RACE_GROUP  \\\n",
       "221  0100000US  United States      7279         70   \n",
       "105  0100000US  United States     42017         50   \n",
       "131  0100000US  United States    188358         40   \n",
       "301  0100000US  United States    206154         91   \n",
       "169  0100000US  United States    757385         60   \n",
       "63   0100000US  United States  12916602         30   \n",
       "\n",
       "0                              RACE_GROUP_LABEL FIRMPDEMP   TECHUSE  \\\n",
       "221  Native Hawaiian and Other Pacific Islander       739  T3E03B05   \n",
       "105           American Indian and Alaska Native      3963  T3E03B05   \n",
       "131                   Black or African American     16148  T3E03B05   \n",
       "301                Equally minority/nonminority     14785  T3E03B05   \n",
       "169                                       Asian     55644  T3E03B05   \n",
       "63                                        White    719143  T3E03B05   \n",
       "\n",
       "0                     TECHUSE_LABEL NAICS2017 us  \n",
       "221  Specialized Software: High use        00  1  \n",
       "105  Specialized Software: High use        00  1  \n",
       "131  Specialized Software: High use        00  1  \n",
       "301  Specialized Software: High use        00  1  \n",
       "169  Specialized Software: High use        00  1  \n",
       "63   Specialized Software: High use        00  1  "
      ]
     },
     "execution_count": 45,
     "metadata": {},
     "output_type": "execute_result"
    }
   ],
   "source": [
    "df_3_tech_use.EMP = df_3_tech_use.EMP.astype(int)\n",
    "df_3_tech_use = df_3_tech_use.sort_values(by='EMP', ascending=True)\n",
    "df_3_tech_use.tail(20)"
   ]
  },
  {
   "cell_type": "code",
   "execution_count": 46,
   "metadata": {},
   "outputs": [
    {
     "data": {
      "application/vnd.plotly.v1+json": {
       "config": {
        "plotlyServerURL": "https://plot.ly"
       },
       "data": [
        {
         "domain": {
          "x": [
           0,
           1
          ],
          "y": [
           0,
           1
          ]
         },
         "hovertemplate": "EMP=%{value}<extra></extra>",
         "legendgroup": "",
         "name": "",
         "showlegend": false,
         "type": "pie",
         "values": [
          7279,
          42017,
          188358,
          206154,
          757385,
          12916602
         ]
        }
       ],
       "layout": {
        "legend": {
         "tracegroupgap": 0
        },
        "margin": {
         "t": 60
        },
        "template": {
         "data": {
          "bar": [
           {
            "error_x": {
             "color": "#2a3f5f"
            },
            "error_y": {
             "color": "#2a3f5f"
            },
            "marker": {
             "line": {
              "color": "#E5ECF6",
              "width": 0.5
             },
             "pattern": {
              "fillmode": "overlay",
              "size": 10,
              "solidity": 0.2
             }
            },
            "type": "bar"
           }
          ],
          "barpolar": [
           {
            "marker": {
             "line": {
              "color": "#E5ECF6",
              "width": 0.5
             },
             "pattern": {
              "fillmode": "overlay",
              "size": 10,
              "solidity": 0.2
             }
            },
            "type": "barpolar"
           }
          ],
          "carpet": [
           {
            "aaxis": {
             "endlinecolor": "#2a3f5f",
             "gridcolor": "white",
             "linecolor": "white",
             "minorgridcolor": "white",
             "startlinecolor": "#2a3f5f"
            },
            "baxis": {
             "endlinecolor": "#2a3f5f",
             "gridcolor": "white",
             "linecolor": "white",
             "minorgridcolor": "white",
             "startlinecolor": "#2a3f5f"
            },
            "type": "carpet"
           }
          ],
          "choropleth": [
           {
            "colorbar": {
             "outlinewidth": 0,
             "ticks": ""
            },
            "type": "choropleth"
           }
          ],
          "contour": [
           {
            "colorbar": {
             "outlinewidth": 0,
             "ticks": ""
            },
            "colorscale": [
             [
              0,
              "#0d0887"
             ],
             [
              0.1111111111111111,
              "#46039f"
             ],
             [
              0.2222222222222222,
              "#7201a8"
             ],
             [
              0.3333333333333333,
              "#9c179e"
             ],
             [
              0.4444444444444444,
              "#bd3786"
             ],
             [
              0.5555555555555556,
              "#d8576b"
             ],
             [
              0.6666666666666666,
              "#ed7953"
             ],
             [
              0.7777777777777778,
              "#fb9f3a"
             ],
             [
              0.8888888888888888,
              "#fdca26"
             ],
             [
              1,
              "#f0f921"
             ]
            ],
            "type": "contour"
           }
          ],
          "contourcarpet": [
           {
            "colorbar": {
             "outlinewidth": 0,
             "ticks": ""
            },
            "type": "contourcarpet"
           }
          ],
          "heatmap": [
           {
            "colorbar": {
             "outlinewidth": 0,
             "ticks": ""
            },
            "colorscale": [
             [
              0,
              "#0d0887"
             ],
             [
              0.1111111111111111,
              "#46039f"
             ],
             [
              0.2222222222222222,
              "#7201a8"
             ],
             [
              0.3333333333333333,
              "#9c179e"
             ],
             [
              0.4444444444444444,
              "#bd3786"
             ],
             [
              0.5555555555555556,
              "#d8576b"
             ],
             [
              0.6666666666666666,
              "#ed7953"
             ],
             [
              0.7777777777777778,
              "#fb9f3a"
             ],
             [
              0.8888888888888888,
              "#fdca26"
             ],
             [
              1,
              "#f0f921"
             ]
            ],
            "type": "heatmap"
           }
          ],
          "heatmapgl": [
           {
            "colorbar": {
             "outlinewidth": 0,
             "ticks": ""
            },
            "colorscale": [
             [
              0,
              "#0d0887"
             ],
             [
              0.1111111111111111,
              "#46039f"
             ],
             [
              0.2222222222222222,
              "#7201a8"
             ],
             [
              0.3333333333333333,
              "#9c179e"
             ],
             [
              0.4444444444444444,
              "#bd3786"
             ],
             [
              0.5555555555555556,
              "#d8576b"
             ],
             [
              0.6666666666666666,
              "#ed7953"
             ],
             [
              0.7777777777777778,
              "#fb9f3a"
             ],
             [
              0.8888888888888888,
              "#fdca26"
             ],
             [
              1,
              "#f0f921"
             ]
            ],
            "type": "heatmapgl"
           }
          ],
          "histogram": [
           {
            "marker": {
             "pattern": {
              "fillmode": "overlay",
              "size": 10,
              "solidity": 0.2
             }
            },
            "type": "histogram"
           }
          ],
          "histogram2d": [
           {
            "colorbar": {
             "outlinewidth": 0,
             "ticks": ""
            },
            "colorscale": [
             [
              0,
              "#0d0887"
             ],
             [
              0.1111111111111111,
              "#46039f"
             ],
             [
              0.2222222222222222,
              "#7201a8"
             ],
             [
              0.3333333333333333,
              "#9c179e"
             ],
             [
              0.4444444444444444,
              "#bd3786"
             ],
             [
              0.5555555555555556,
              "#d8576b"
             ],
             [
              0.6666666666666666,
              "#ed7953"
             ],
             [
              0.7777777777777778,
              "#fb9f3a"
             ],
             [
              0.8888888888888888,
              "#fdca26"
             ],
             [
              1,
              "#f0f921"
             ]
            ],
            "type": "histogram2d"
           }
          ],
          "histogram2dcontour": [
           {
            "colorbar": {
             "outlinewidth": 0,
             "ticks": ""
            },
            "colorscale": [
             [
              0,
              "#0d0887"
             ],
             [
              0.1111111111111111,
              "#46039f"
             ],
             [
              0.2222222222222222,
              "#7201a8"
             ],
             [
              0.3333333333333333,
              "#9c179e"
             ],
             [
              0.4444444444444444,
              "#bd3786"
             ],
             [
              0.5555555555555556,
              "#d8576b"
             ],
             [
              0.6666666666666666,
              "#ed7953"
             ],
             [
              0.7777777777777778,
              "#fb9f3a"
             ],
             [
              0.8888888888888888,
              "#fdca26"
             ],
             [
              1,
              "#f0f921"
             ]
            ],
            "type": "histogram2dcontour"
           }
          ],
          "mesh3d": [
           {
            "colorbar": {
             "outlinewidth": 0,
             "ticks": ""
            },
            "type": "mesh3d"
           }
          ],
          "parcoords": [
           {
            "line": {
             "colorbar": {
              "outlinewidth": 0,
              "ticks": ""
             }
            },
            "type": "parcoords"
           }
          ],
          "pie": [
           {
            "automargin": true,
            "type": "pie"
           }
          ],
          "scatter": [
           {
            "marker": {
             "colorbar": {
              "outlinewidth": 0,
              "ticks": ""
             }
            },
            "type": "scatter"
           }
          ],
          "scatter3d": [
           {
            "line": {
             "colorbar": {
              "outlinewidth": 0,
              "ticks": ""
             }
            },
            "marker": {
             "colorbar": {
              "outlinewidth": 0,
              "ticks": ""
             }
            },
            "type": "scatter3d"
           }
          ],
          "scattercarpet": [
           {
            "marker": {
             "colorbar": {
              "outlinewidth": 0,
              "ticks": ""
             }
            },
            "type": "scattercarpet"
           }
          ],
          "scattergeo": [
           {
            "marker": {
             "colorbar": {
              "outlinewidth": 0,
              "ticks": ""
             }
            },
            "type": "scattergeo"
           }
          ],
          "scattergl": [
           {
            "marker": {
             "colorbar": {
              "outlinewidth": 0,
              "ticks": ""
             }
            },
            "type": "scattergl"
           }
          ],
          "scattermapbox": [
           {
            "marker": {
             "colorbar": {
              "outlinewidth": 0,
              "ticks": ""
             }
            },
            "type": "scattermapbox"
           }
          ],
          "scatterpolar": [
           {
            "marker": {
             "colorbar": {
              "outlinewidth": 0,
              "ticks": ""
             }
            },
            "type": "scatterpolar"
           }
          ],
          "scatterpolargl": [
           {
            "marker": {
             "colorbar": {
              "outlinewidth": 0,
              "ticks": ""
             }
            },
            "type": "scatterpolargl"
           }
          ],
          "scatterternary": [
           {
            "marker": {
             "colorbar": {
              "outlinewidth": 0,
              "ticks": ""
             }
            },
            "type": "scatterternary"
           }
          ],
          "surface": [
           {
            "colorbar": {
             "outlinewidth": 0,
             "ticks": ""
            },
            "colorscale": [
             [
              0,
              "#0d0887"
             ],
             [
              0.1111111111111111,
              "#46039f"
             ],
             [
              0.2222222222222222,
              "#7201a8"
             ],
             [
              0.3333333333333333,
              "#9c179e"
             ],
             [
              0.4444444444444444,
              "#bd3786"
             ],
             [
              0.5555555555555556,
              "#d8576b"
             ],
             [
              0.6666666666666666,
              "#ed7953"
             ],
             [
              0.7777777777777778,
              "#fb9f3a"
             ],
             [
              0.8888888888888888,
              "#fdca26"
             ],
             [
              1,
              "#f0f921"
             ]
            ],
            "type": "surface"
           }
          ],
          "table": [
           {
            "cells": {
             "fill": {
              "color": "#EBF0F8"
             },
             "line": {
              "color": "white"
             }
            },
            "header": {
             "fill": {
              "color": "#C8D4E3"
             },
             "line": {
              "color": "white"
             }
            },
            "type": "table"
           }
          ]
         },
         "layout": {
          "annotationdefaults": {
           "arrowcolor": "#2a3f5f",
           "arrowhead": 0,
           "arrowwidth": 1
          },
          "autotypenumbers": "strict",
          "coloraxis": {
           "colorbar": {
            "outlinewidth": 0,
            "ticks": ""
           }
          },
          "colorscale": {
           "diverging": [
            [
             0,
             "#8e0152"
            ],
            [
             0.1,
             "#c51b7d"
            ],
            [
             0.2,
             "#de77ae"
            ],
            [
             0.3,
             "#f1b6da"
            ],
            [
             0.4,
             "#fde0ef"
            ],
            [
             0.5,
             "#f7f7f7"
            ],
            [
             0.6,
             "#e6f5d0"
            ],
            [
             0.7,
             "#b8e186"
            ],
            [
             0.8,
             "#7fbc41"
            ],
            [
             0.9,
             "#4d9221"
            ],
            [
             1,
             "#276419"
            ]
           ],
           "sequential": [
            [
             0,
             "#0d0887"
            ],
            [
             0.1111111111111111,
             "#46039f"
            ],
            [
             0.2222222222222222,
             "#7201a8"
            ],
            [
             0.3333333333333333,
             "#9c179e"
            ],
            [
             0.4444444444444444,
             "#bd3786"
            ],
            [
             0.5555555555555556,
             "#d8576b"
            ],
            [
             0.6666666666666666,
             "#ed7953"
            ],
            [
             0.7777777777777778,
             "#fb9f3a"
            ],
            [
             0.8888888888888888,
             "#fdca26"
            ],
            [
             1,
             "#f0f921"
            ]
           ],
           "sequentialminus": [
            [
             0,
             "#0d0887"
            ],
            [
             0.1111111111111111,
             "#46039f"
            ],
            [
             0.2222222222222222,
             "#7201a8"
            ],
            [
             0.3333333333333333,
             "#9c179e"
            ],
            [
             0.4444444444444444,
             "#bd3786"
            ],
            [
             0.5555555555555556,
             "#d8576b"
            ],
            [
             0.6666666666666666,
             "#ed7953"
            ],
            [
             0.7777777777777778,
             "#fb9f3a"
            ],
            [
             0.8888888888888888,
             "#fdca26"
            ],
            [
             1,
             "#f0f921"
            ]
           ]
          },
          "colorway": [
           "#636efa",
           "#EF553B",
           "#00cc96",
           "#ab63fa",
           "#FFA15A",
           "#19d3f3",
           "#FF6692",
           "#B6E880",
           "#FF97FF",
           "#FECB52"
          ],
          "font": {
           "color": "#2a3f5f"
          },
          "geo": {
           "bgcolor": "white",
           "lakecolor": "white",
           "landcolor": "#E5ECF6",
           "showlakes": true,
           "showland": true,
           "subunitcolor": "white"
          },
          "hoverlabel": {
           "align": "left"
          },
          "hovermode": "closest",
          "mapbox": {
           "style": "light"
          },
          "paper_bgcolor": "white",
          "plot_bgcolor": "#E5ECF6",
          "polar": {
           "angularaxis": {
            "gridcolor": "white",
            "linecolor": "white",
            "ticks": ""
           },
           "bgcolor": "#E5ECF6",
           "radialaxis": {
            "gridcolor": "white",
            "linecolor": "white",
            "ticks": ""
           }
          },
          "scene": {
           "xaxis": {
            "backgroundcolor": "#E5ECF6",
            "gridcolor": "white",
            "gridwidth": 2,
            "linecolor": "white",
            "showbackground": true,
            "ticks": "",
            "zerolinecolor": "white"
           },
           "yaxis": {
            "backgroundcolor": "#E5ECF6",
            "gridcolor": "white",
            "gridwidth": 2,
            "linecolor": "white",
            "showbackground": true,
            "ticks": "",
            "zerolinecolor": "white"
           },
           "zaxis": {
            "backgroundcolor": "#E5ECF6",
            "gridcolor": "white",
            "gridwidth": 2,
            "linecolor": "white",
            "showbackground": true,
            "ticks": "",
            "zerolinecolor": "white"
           }
          },
          "shapedefaults": {
           "line": {
            "color": "#2a3f5f"
           }
          },
          "ternary": {
           "aaxis": {
            "gridcolor": "white",
            "linecolor": "white",
            "ticks": ""
           },
           "baxis": {
            "gridcolor": "white",
            "linecolor": "white",
            "ticks": ""
           },
           "bgcolor": "#E5ECF6",
           "caxis": {
            "gridcolor": "white",
            "linecolor": "white",
            "ticks": ""
           }
          },
          "title": {
           "x": 0.05
          },
          "xaxis": {
           "automargin": true,
           "gridcolor": "white",
           "linecolor": "white",
           "ticks": "",
           "title": {
            "standoff": 15
           },
           "zerolinecolor": "white",
           "zerolinewidth": 2
          },
          "yaxis": {
           "automargin": true,
           "gridcolor": "white",
           "linecolor": "white",
           "ticks": "",
           "title": {
            "standoff": 15
           },
           "zerolinecolor": "white",
           "zerolinewidth": 2
          }
         }
        }
       }
      }
     },
     "metadata": {},
     "output_type": "display_data"
    }
   ],
   "source": [
    "labels = []\n",
    "fig = px.pie(df_3_tech_use, values='EMP', labels=labels)\n",
    "\n",
    "fig.show()"
   ]
  },
  {
   "cell_type": "code",
   "execution_count": 47,
   "metadata": {},
   "outputs": [
    {
     "data": {
      "application/vnd.plotly.v1+json": {
       "config": {
        "plotlyServerURL": "https://plot.ly"
       },
       "data": [
        {
         "domain": {
          "x": [
           0,
           1
          ],
          "y": [
           0,
           1
          ]
         },
         "hovertemplate": "EMP=%{value}<extra></extra>",
         "legendgroup": "",
         "name": "",
         "showlegend": false,
         "type": "pie",
         "values": [
          "9805755",
          "26284",
          "172128",
          "539408",
          "0",
          "115478"
         ]
        }
       ],
       "layout": {
        "legend": {
         "tracegroupgap": 0
        },
        "margin": {
         "t": 60
        },
        "template": {
         "data": {
          "bar": [
           {
            "error_x": {
             "color": "#2a3f5f"
            },
            "error_y": {
             "color": "#2a3f5f"
            },
            "marker": {
             "line": {
              "color": "#E5ECF6",
              "width": 0.5
             },
             "pattern": {
              "fillmode": "overlay",
              "size": 10,
              "solidity": 0.2
             }
            },
            "type": "bar"
           }
          ],
          "barpolar": [
           {
            "marker": {
             "line": {
              "color": "#E5ECF6",
              "width": 0.5
             },
             "pattern": {
              "fillmode": "overlay",
              "size": 10,
              "solidity": 0.2
             }
            },
            "type": "barpolar"
           }
          ],
          "carpet": [
           {
            "aaxis": {
             "endlinecolor": "#2a3f5f",
             "gridcolor": "white",
             "linecolor": "white",
             "minorgridcolor": "white",
             "startlinecolor": "#2a3f5f"
            },
            "baxis": {
             "endlinecolor": "#2a3f5f",
             "gridcolor": "white",
             "linecolor": "white",
             "minorgridcolor": "white",
             "startlinecolor": "#2a3f5f"
            },
            "type": "carpet"
           }
          ],
          "choropleth": [
           {
            "colorbar": {
             "outlinewidth": 0,
             "ticks": ""
            },
            "type": "choropleth"
           }
          ],
          "contour": [
           {
            "colorbar": {
             "outlinewidth": 0,
             "ticks": ""
            },
            "colorscale": [
             [
              0,
              "#0d0887"
             ],
             [
              0.1111111111111111,
              "#46039f"
             ],
             [
              0.2222222222222222,
              "#7201a8"
             ],
             [
              0.3333333333333333,
              "#9c179e"
             ],
             [
              0.4444444444444444,
              "#bd3786"
             ],
             [
              0.5555555555555556,
              "#d8576b"
             ],
             [
              0.6666666666666666,
              "#ed7953"
             ],
             [
              0.7777777777777778,
              "#fb9f3a"
             ],
             [
              0.8888888888888888,
              "#fdca26"
             ],
             [
              1,
              "#f0f921"
             ]
            ],
            "type": "contour"
           }
          ],
          "contourcarpet": [
           {
            "colorbar": {
             "outlinewidth": 0,
             "ticks": ""
            },
            "type": "contourcarpet"
           }
          ],
          "heatmap": [
           {
            "colorbar": {
             "outlinewidth": 0,
             "ticks": ""
            },
            "colorscale": [
             [
              0,
              "#0d0887"
             ],
             [
              0.1111111111111111,
              "#46039f"
             ],
             [
              0.2222222222222222,
              "#7201a8"
             ],
             [
              0.3333333333333333,
              "#9c179e"
             ],
             [
              0.4444444444444444,
              "#bd3786"
             ],
             [
              0.5555555555555556,
              "#d8576b"
             ],
             [
              0.6666666666666666,
              "#ed7953"
             ],
             [
              0.7777777777777778,
              "#fb9f3a"
             ],
             [
              0.8888888888888888,
              "#fdca26"
             ],
             [
              1,
              "#f0f921"
             ]
            ],
            "type": "heatmap"
           }
          ],
          "heatmapgl": [
           {
            "colorbar": {
             "outlinewidth": 0,
             "ticks": ""
            },
            "colorscale": [
             [
              0,
              "#0d0887"
             ],
             [
              0.1111111111111111,
              "#46039f"
             ],
             [
              0.2222222222222222,
              "#7201a8"
             ],
             [
              0.3333333333333333,
              "#9c179e"
             ],
             [
              0.4444444444444444,
              "#bd3786"
             ],
             [
              0.5555555555555556,
              "#d8576b"
             ],
             [
              0.6666666666666666,
              "#ed7953"
             ],
             [
              0.7777777777777778,
              "#fb9f3a"
             ],
             [
              0.8888888888888888,
              "#fdca26"
             ],
             [
              1,
              "#f0f921"
             ]
            ],
            "type": "heatmapgl"
           }
          ],
          "histogram": [
           {
            "marker": {
             "pattern": {
              "fillmode": "overlay",
              "size": 10,
              "solidity": 0.2
             }
            },
            "type": "histogram"
           }
          ],
          "histogram2d": [
           {
            "colorbar": {
             "outlinewidth": 0,
             "ticks": ""
            },
            "colorscale": [
             [
              0,
              "#0d0887"
             ],
             [
              0.1111111111111111,
              "#46039f"
             ],
             [
              0.2222222222222222,
              "#7201a8"
             ],
             [
              0.3333333333333333,
              "#9c179e"
             ],
             [
              0.4444444444444444,
              "#bd3786"
             ],
             [
              0.5555555555555556,
              "#d8576b"
             ],
             [
              0.6666666666666666,
              "#ed7953"
             ],
             [
              0.7777777777777778,
              "#fb9f3a"
             ],
             [
              0.8888888888888888,
              "#fdca26"
             ],
             [
              1,
              "#f0f921"
             ]
            ],
            "type": "histogram2d"
           }
          ],
          "histogram2dcontour": [
           {
            "colorbar": {
             "outlinewidth": 0,
             "ticks": ""
            },
            "colorscale": [
             [
              0,
              "#0d0887"
             ],
             [
              0.1111111111111111,
              "#46039f"
             ],
             [
              0.2222222222222222,
              "#7201a8"
             ],
             [
              0.3333333333333333,
              "#9c179e"
             ],
             [
              0.4444444444444444,
              "#bd3786"
             ],
             [
              0.5555555555555556,
              "#d8576b"
             ],
             [
              0.6666666666666666,
              "#ed7953"
             ],
             [
              0.7777777777777778,
              "#fb9f3a"
             ],
             [
              0.8888888888888888,
              "#fdca26"
             ],
             [
              1,
              "#f0f921"
             ]
            ],
            "type": "histogram2dcontour"
           }
          ],
          "mesh3d": [
           {
            "colorbar": {
             "outlinewidth": 0,
             "ticks": ""
            },
            "type": "mesh3d"
           }
          ],
          "parcoords": [
           {
            "line": {
             "colorbar": {
              "outlinewidth": 0,
              "ticks": ""
             }
            },
            "type": "parcoords"
           }
          ],
          "pie": [
           {
            "automargin": true,
            "type": "pie"
           }
          ],
          "scatter": [
           {
            "marker": {
             "colorbar": {
              "outlinewidth": 0,
              "ticks": ""
             }
            },
            "type": "scatter"
           }
          ],
          "scatter3d": [
           {
            "line": {
             "colorbar": {
              "outlinewidth": 0,
              "ticks": ""
             }
            },
            "marker": {
             "colorbar": {
              "outlinewidth": 0,
              "ticks": ""
             }
            },
            "type": "scatter3d"
           }
          ],
          "scattercarpet": [
           {
            "marker": {
             "colorbar": {
              "outlinewidth": 0,
              "ticks": ""
             }
            },
            "type": "scattercarpet"
           }
          ],
          "scattergeo": [
           {
            "marker": {
             "colorbar": {
              "outlinewidth": 0,
              "ticks": ""
             }
            },
            "type": "scattergeo"
           }
          ],
          "scattergl": [
           {
            "marker": {
             "colorbar": {
              "outlinewidth": 0,
              "ticks": ""
             }
            },
            "type": "scattergl"
           }
          ],
          "scattermapbox": [
           {
            "marker": {
             "colorbar": {
              "outlinewidth": 0,
              "ticks": ""
             }
            },
            "type": "scattermapbox"
           }
          ],
          "scatterpolar": [
           {
            "marker": {
             "colorbar": {
              "outlinewidth": 0,
              "ticks": ""
             }
            },
            "type": "scatterpolar"
           }
          ],
          "scatterpolargl": [
           {
            "marker": {
             "colorbar": {
              "outlinewidth": 0,
              "ticks": ""
             }
            },
            "type": "scatterpolargl"
           }
          ],
          "scatterternary": [
           {
            "marker": {
             "colorbar": {
              "outlinewidth": 0,
              "ticks": ""
             }
            },
            "type": "scatterternary"
           }
          ],
          "surface": [
           {
            "colorbar": {
             "outlinewidth": 0,
             "ticks": ""
            },
            "colorscale": [
             [
              0,
              "#0d0887"
             ],
             [
              0.1111111111111111,
              "#46039f"
             ],
             [
              0.2222222222222222,
              "#7201a8"
             ],
             [
              0.3333333333333333,
              "#9c179e"
             ],
             [
              0.4444444444444444,
              "#bd3786"
             ],
             [
              0.5555555555555556,
              "#d8576b"
             ],
             [
              0.6666666666666666,
              "#ed7953"
             ],
             [
              0.7777777777777778,
              "#fb9f3a"
             ],
             [
              0.8888888888888888,
              "#fdca26"
             ],
             [
              1,
              "#f0f921"
             ]
            ],
            "type": "surface"
           }
          ],
          "table": [
           {
            "cells": {
             "fill": {
              "color": "#EBF0F8"
             },
             "line": {
              "color": "white"
             }
            },
            "header": {
             "fill": {
              "color": "#C8D4E3"
             },
             "line": {
              "color": "white"
             }
            },
            "type": "table"
           }
          ]
         },
         "layout": {
          "annotationdefaults": {
           "arrowcolor": "#2a3f5f",
           "arrowhead": 0,
           "arrowwidth": 1
          },
          "autotypenumbers": "strict",
          "coloraxis": {
           "colorbar": {
            "outlinewidth": 0,
            "ticks": ""
           }
          },
          "colorscale": {
           "diverging": [
            [
             0,
             "#8e0152"
            ],
            [
             0.1,
             "#c51b7d"
            ],
            [
             0.2,
             "#de77ae"
            ],
            [
             0.3,
             "#f1b6da"
            ],
            [
             0.4,
             "#fde0ef"
            ],
            [
             0.5,
             "#f7f7f7"
            ],
            [
             0.6,
             "#e6f5d0"
            ],
            [
             0.7,
             "#b8e186"
            ],
            [
             0.8,
             "#7fbc41"
            ],
            [
             0.9,
             "#4d9221"
            ],
            [
             1,
             "#276419"
            ]
           ],
           "sequential": [
            [
             0,
             "#0d0887"
            ],
            [
             0.1111111111111111,
             "#46039f"
            ],
            [
             0.2222222222222222,
             "#7201a8"
            ],
            [
             0.3333333333333333,
             "#9c179e"
            ],
            [
             0.4444444444444444,
             "#bd3786"
            ],
            [
             0.5555555555555556,
             "#d8576b"
            ],
            [
             0.6666666666666666,
             "#ed7953"
            ],
            [
             0.7777777777777778,
             "#fb9f3a"
            ],
            [
             0.8888888888888888,
             "#fdca26"
            ],
            [
             1,
             "#f0f921"
            ]
           ],
           "sequentialminus": [
            [
             0,
             "#0d0887"
            ],
            [
             0.1111111111111111,
             "#46039f"
            ],
            [
             0.2222222222222222,
             "#7201a8"
            ],
            [
             0.3333333333333333,
             "#9c179e"
            ],
            [
             0.4444444444444444,
             "#bd3786"
            ],
            [
             0.5555555555555556,
             "#d8576b"
            ],
            [
             0.6666666666666666,
             "#ed7953"
            ],
            [
             0.7777777777777778,
             "#fb9f3a"
            ],
            [
             0.8888888888888888,
             "#fdca26"
            ],
            [
             1,
             "#f0f921"
            ]
           ]
          },
          "colorway": [
           "#636efa",
           "#EF553B",
           "#00cc96",
           "#ab63fa",
           "#FFA15A",
           "#19d3f3",
           "#FF6692",
           "#B6E880",
           "#FF97FF",
           "#FECB52"
          ],
          "font": {
           "color": "#2a3f5f"
          },
          "geo": {
           "bgcolor": "white",
           "lakecolor": "white",
           "landcolor": "#E5ECF6",
           "showlakes": true,
           "showland": true,
           "subunitcolor": "white"
          },
          "hoverlabel": {
           "align": "left"
          },
          "hovermode": "closest",
          "mapbox": {
           "style": "light"
          },
          "paper_bgcolor": "white",
          "plot_bgcolor": "#E5ECF6",
          "polar": {
           "angularaxis": {
            "gridcolor": "white",
            "linecolor": "white",
            "ticks": ""
           },
           "bgcolor": "#E5ECF6",
           "radialaxis": {
            "gridcolor": "white",
            "linecolor": "white",
            "ticks": ""
           }
          },
          "scene": {
           "xaxis": {
            "backgroundcolor": "#E5ECF6",
            "gridcolor": "white",
            "gridwidth": 2,
            "linecolor": "white",
            "showbackground": true,
            "ticks": "",
            "zerolinecolor": "white"
           },
           "yaxis": {
            "backgroundcolor": "#E5ECF6",
            "gridcolor": "white",
            "gridwidth": 2,
            "linecolor": "white",
            "showbackground": true,
            "ticks": "",
            "zerolinecolor": "white"
           },
           "zaxis": {
            "backgroundcolor": "#E5ECF6",
            "gridcolor": "white",
            "gridwidth": 2,
            "linecolor": "white",
            "showbackground": true,
            "ticks": "",
            "zerolinecolor": "white"
           }
          },
          "shapedefaults": {
           "line": {
            "color": "#2a3f5f"
           }
          },
          "ternary": {
           "aaxis": {
            "gridcolor": "white",
            "linecolor": "white",
            "ticks": ""
           },
           "baxis": {
            "gridcolor": "white",
            "linecolor": "white",
            "ticks": ""
           },
           "bgcolor": "#E5ECF6",
           "caxis": {
            "gridcolor": "white",
            "linecolor": "white",
            "ticks": ""
           }
          },
          "title": {
           "x": 0.05
          },
          "xaxis": {
           "automargin": true,
           "gridcolor": "white",
           "linecolor": "white",
           "ticks": "",
           "title": {
            "standoff": 15
           },
           "zerolinecolor": "white",
           "zerolinewidth": 2
          },
          "yaxis": {
           "automargin": true,
           "gridcolor": "white",
           "linecolor": "white",
           "ticks": "",
           "title": {
            "standoff": 15
           },
           "zerolinecolor": "white",
           "zerolinewidth": 2
          }
         }
        }
       }
      }
     },
     "metadata": {},
     "output_type": "display_data"
    }
   ],
   "source": [
    "labels = []\n",
    "fig = px.pie(df_tech_use_4, values='EMP', labels=labels)\n",
    "\n",
    "fig.show()\n"
   ]
  },
  {
   "cell_type": "code",
   "execution_count": 4,
   "metadata": {},
   "outputs": [
    {
     "data": {
      "application/vnd.plotly.v1+json": {
       "config": {
        "plotlyServerURL": "https://plot.ly"
       },
       "data": [
        {
         "domain": {
          "x": [
           0,
           0.45
          ],
          "y": [
           0,
           1
          ]
         },
         "hole": 0.4,
         "hoverinfo": "label+percent+name",
         "labels": [
          "Native Hawaiian and Other Pacific Islander",
          "American Indian and Alaska Native",
          "Black or African American",
          "Equally minority/nonminority",
          "Asian",
          "White"
         ],
         "name": "Moderate Use",
         "type": "pie",
         "values": [
          0,
          0.247,
          1.08,
          1.61,
          5.06,
          92
         ]
        },
        {
         "domain": {
          "x": [
           0.55,
           1
          ],
          "y": [
           0,
           1
          ]
         },
         "hole": 0.4,
         "hoverinfo": "label+percent+name",
         "labels": [
          "Native Hawaiian and Other Pacific Islander",
          "American Indian and Alaska Native",
          "Black or African American",
          "Equally minority/nonminority",
          "Asian",
          "White"
         ],
         "name": "High Use",
         "type": "pie",
         "values": [
          0.0516,
          0.298,
          1.33,
          1.46,
          5.36,
          91.5
         ]
        }
       ],
       "layout": {
        "annotations": [
         {
          "font": {
           "size": 20
          },
          "showarrow": false,
          "text": "Mod Use",
          "x": 0.18,
          "y": 0.5
         },
         {
          "font": {
           "size": 20
          },
          "showarrow": false,
          "text": "High Use",
          "x": 0.825,
          "y": 0.5
         }
        ],
        "template": {
         "data": {
          "bar": [
           {
            "error_x": {
             "color": "#2a3f5f"
            },
            "error_y": {
             "color": "#2a3f5f"
            },
            "marker": {
             "line": {
              "color": "#E5ECF6",
              "width": 0.5
             },
             "pattern": {
              "fillmode": "overlay",
              "size": 10,
              "solidity": 0.2
             }
            },
            "type": "bar"
           }
          ],
          "barpolar": [
           {
            "marker": {
             "line": {
              "color": "#E5ECF6",
              "width": 0.5
             },
             "pattern": {
              "fillmode": "overlay",
              "size": 10,
              "solidity": 0.2
             }
            },
            "type": "barpolar"
           }
          ],
          "carpet": [
           {
            "aaxis": {
             "endlinecolor": "#2a3f5f",
             "gridcolor": "white",
             "linecolor": "white",
             "minorgridcolor": "white",
             "startlinecolor": "#2a3f5f"
            },
            "baxis": {
             "endlinecolor": "#2a3f5f",
             "gridcolor": "white",
             "linecolor": "white",
             "minorgridcolor": "white",
             "startlinecolor": "#2a3f5f"
            },
            "type": "carpet"
           }
          ],
          "choropleth": [
           {
            "colorbar": {
             "outlinewidth": 0,
             "ticks": ""
            },
            "type": "choropleth"
           }
          ],
          "contour": [
           {
            "colorbar": {
             "outlinewidth": 0,
             "ticks": ""
            },
            "colorscale": [
             [
              0,
              "#0d0887"
             ],
             [
              0.1111111111111111,
              "#46039f"
             ],
             [
              0.2222222222222222,
              "#7201a8"
             ],
             [
              0.3333333333333333,
              "#9c179e"
             ],
             [
              0.4444444444444444,
              "#bd3786"
             ],
             [
              0.5555555555555556,
              "#d8576b"
             ],
             [
              0.6666666666666666,
              "#ed7953"
             ],
             [
              0.7777777777777778,
              "#fb9f3a"
             ],
             [
              0.8888888888888888,
              "#fdca26"
             ],
             [
              1,
              "#f0f921"
             ]
            ],
            "type": "contour"
           }
          ],
          "contourcarpet": [
           {
            "colorbar": {
             "outlinewidth": 0,
             "ticks": ""
            },
            "type": "contourcarpet"
           }
          ],
          "heatmap": [
           {
            "colorbar": {
             "outlinewidth": 0,
             "ticks": ""
            },
            "colorscale": [
             [
              0,
              "#0d0887"
             ],
             [
              0.1111111111111111,
              "#46039f"
             ],
             [
              0.2222222222222222,
              "#7201a8"
             ],
             [
              0.3333333333333333,
              "#9c179e"
             ],
             [
              0.4444444444444444,
              "#bd3786"
             ],
             [
              0.5555555555555556,
              "#d8576b"
             ],
             [
              0.6666666666666666,
              "#ed7953"
             ],
             [
              0.7777777777777778,
              "#fb9f3a"
             ],
             [
              0.8888888888888888,
              "#fdca26"
             ],
             [
              1,
              "#f0f921"
             ]
            ],
            "type": "heatmap"
           }
          ],
          "heatmapgl": [
           {
            "colorbar": {
             "outlinewidth": 0,
             "ticks": ""
            },
            "colorscale": [
             [
              0,
              "#0d0887"
             ],
             [
              0.1111111111111111,
              "#46039f"
             ],
             [
              0.2222222222222222,
              "#7201a8"
             ],
             [
              0.3333333333333333,
              "#9c179e"
             ],
             [
              0.4444444444444444,
              "#bd3786"
             ],
             [
              0.5555555555555556,
              "#d8576b"
             ],
             [
              0.6666666666666666,
              "#ed7953"
             ],
             [
              0.7777777777777778,
              "#fb9f3a"
             ],
             [
              0.8888888888888888,
              "#fdca26"
             ],
             [
              1,
              "#f0f921"
             ]
            ],
            "type": "heatmapgl"
           }
          ],
          "histogram": [
           {
            "marker": {
             "pattern": {
              "fillmode": "overlay",
              "size": 10,
              "solidity": 0.2
             }
            },
            "type": "histogram"
           }
          ],
          "histogram2d": [
           {
            "colorbar": {
             "outlinewidth": 0,
             "ticks": ""
            },
            "colorscale": [
             [
              0,
              "#0d0887"
             ],
             [
              0.1111111111111111,
              "#46039f"
             ],
             [
              0.2222222222222222,
              "#7201a8"
             ],
             [
              0.3333333333333333,
              "#9c179e"
             ],
             [
              0.4444444444444444,
              "#bd3786"
             ],
             [
              0.5555555555555556,
              "#d8576b"
             ],
             [
              0.6666666666666666,
              "#ed7953"
             ],
             [
              0.7777777777777778,
              "#fb9f3a"
             ],
             [
              0.8888888888888888,
              "#fdca26"
             ],
             [
              1,
              "#f0f921"
             ]
            ],
            "type": "histogram2d"
           }
          ],
          "histogram2dcontour": [
           {
            "colorbar": {
             "outlinewidth": 0,
             "ticks": ""
            },
            "colorscale": [
             [
              0,
              "#0d0887"
             ],
             [
              0.1111111111111111,
              "#46039f"
             ],
             [
              0.2222222222222222,
              "#7201a8"
             ],
             [
              0.3333333333333333,
              "#9c179e"
             ],
             [
              0.4444444444444444,
              "#bd3786"
             ],
             [
              0.5555555555555556,
              "#d8576b"
             ],
             [
              0.6666666666666666,
              "#ed7953"
             ],
             [
              0.7777777777777778,
              "#fb9f3a"
             ],
             [
              0.8888888888888888,
              "#fdca26"
             ],
             [
              1,
              "#f0f921"
             ]
            ],
            "type": "histogram2dcontour"
           }
          ],
          "mesh3d": [
           {
            "colorbar": {
             "outlinewidth": 0,
             "ticks": ""
            },
            "type": "mesh3d"
           }
          ],
          "parcoords": [
           {
            "line": {
             "colorbar": {
              "outlinewidth": 0,
              "ticks": ""
             }
            },
            "type": "parcoords"
           }
          ],
          "pie": [
           {
            "automargin": true,
            "type": "pie"
           }
          ],
          "scatter": [
           {
            "marker": {
             "colorbar": {
              "outlinewidth": 0,
              "ticks": ""
             }
            },
            "type": "scatter"
           }
          ],
          "scatter3d": [
           {
            "line": {
             "colorbar": {
              "outlinewidth": 0,
              "ticks": ""
             }
            },
            "marker": {
             "colorbar": {
              "outlinewidth": 0,
              "ticks": ""
             }
            },
            "type": "scatter3d"
           }
          ],
          "scattercarpet": [
           {
            "marker": {
             "colorbar": {
              "outlinewidth": 0,
              "ticks": ""
             }
            },
            "type": "scattercarpet"
           }
          ],
          "scattergeo": [
           {
            "marker": {
             "colorbar": {
              "outlinewidth": 0,
              "ticks": ""
             }
            },
            "type": "scattergeo"
           }
          ],
          "scattergl": [
           {
            "marker": {
             "colorbar": {
              "outlinewidth": 0,
              "ticks": ""
             }
            },
            "type": "scattergl"
           }
          ],
          "scattermapbox": [
           {
            "marker": {
             "colorbar": {
              "outlinewidth": 0,
              "ticks": ""
             }
            },
            "type": "scattermapbox"
           }
          ],
          "scatterpolar": [
           {
            "marker": {
             "colorbar": {
              "outlinewidth": 0,
              "ticks": ""
             }
            },
            "type": "scatterpolar"
           }
          ],
          "scatterpolargl": [
           {
            "marker": {
             "colorbar": {
              "outlinewidth": 0,
              "ticks": ""
             }
            },
            "type": "scatterpolargl"
           }
          ],
          "scatterternary": [
           {
            "marker": {
             "colorbar": {
              "outlinewidth": 0,
              "ticks": ""
             }
            },
            "type": "scatterternary"
           }
          ],
          "surface": [
           {
            "colorbar": {
             "outlinewidth": 0,
             "ticks": ""
            },
            "colorscale": [
             [
              0,
              "#0d0887"
             ],
             [
              0.1111111111111111,
              "#46039f"
             ],
             [
              0.2222222222222222,
              "#7201a8"
             ],
             [
              0.3333333333333333,
              "#9c179e"
             ],
             [
              0.4444444444444444,
              "#bd3786"
             ],
             [
              0.5555555555555556,
              "#d8576b"
             ],
             [
              0.6666666666666666,
              "#ed7953"
             ],
             [
              0.7777777777777778,
              "#fb9f3a"
             ],
             [
              0.8888888888888888,
              "#fdca26"
             ],
             [
              1,
              "#f0f921"
             ]
            ],
            "type": "surface"
           }
          ],
          "table": [
           {
            "cells": {
             "fill": {
              "color": "#EBF0F8"
             },
             "line": {
              "color": "white"
             }
            },
            "header": {
             "fill": {
              "color": "#C8D4E3"
             },
             "line": {
              "color": "white"
             }
            },
            "type": "table"
           }
          ]
         },
         "layout": {
          "annotationdefaults": {
           "arrowcolor": "#2a3f5f",
           "arrowhead": 0,
           "arrowwidth": 1
          },
          "autotypenumbers": "strict",
          "coloraxis": {
           "colorbar": {
            "outlinewidth": 0,
            "ticks": ""
           }
          },
          "colorscale": {
           "diverging": [
            [
             0,
             "#8e0152"
            ],
            [
             0.1,
             "#c51b7d"
            ],
            [
             0.2,
             "#de77ae"
            ],
            [
             0.3,
             "#f1b6da"
            ],
            [
             0.4,
             "#fde0ef"
            ],
            [
             0.5,
             "#f7f7f7"
            ],
            [
             0.6,
             "#e6f5d0"
            ],
            [
             0.7,
             "#b8e186"
            ],
            [
             0.8,
             "#7fbc41"
            ],
            [
             0.9,
             "#4d9221"
            ],
            [
             1,
             "#276419"
            ]
           ],
           "sequential": [
            [
             0,
             "#0d0887"
            ],
            [
             0.1111111111111111,
             "#46039f"
            ],
            [
             0.2222222222222222,
             "#7201a8"
            ],
            [
             0.3333333333333333,
             "#9c179e"
            ],
            [
             0.4444444444444444,
             "#bd3786"
            ],
            [
             0.5555555555555556,
             "#d8576b"
            ],
            [
             0.6666666666666666,
             "#ed7953"
            ],
            [
             0.7777777777777778,
             "#fb9f3a"
            ],
            [
             0.8888888888888888,
             "#fdca26"
            ],
            [
             1,
             "#f0f921"
            ]
           ],
           "sequentialminus": [
            [
             0,
             "#0d0887"
            ],
            [
             0.1111111111111111,
             "#46039f"
            ],
            [
             0.2222222222222222,
             "#7201a8"
            ],
            [
             0.3333333333333333,
             "#9c179e"
            ],
            [
             0.4444444444444444,
             "#bd3786"
            ],
            [
             0.5555555555555556,
             "#d8576b"
            ],
            [
             0.6666666666666666,
             "#ed7953"
            ],
            [
             0.7777777777777778,
             "#fb9f3a"
            ],
            [
             0.8888888888888888,
             "#fdca26"
            ],
            [
             1,
             "#f0f921"
            ]
           ]
          },
          "colorway": [
           "#636efa",
           "#EF553B",
           "#00cc96",
           "#ab63fa",
           "#FFA15A",
           "#19d3f3",
           "#FF6692",
           "#B6E880",
           "#FF97FF",
           "#FECB52"
          ],
          "font": {
           "color": "#2a3f5f"
          },
          "geo": {
           "bgcolor": "white",
           "lakecolor": "white",
           "landcolor": "#E5ECF6",
           "showlakes": true,
           "showland": true,
           "subunitcolor": "white"
          },
          "hoverlabel": {
           "align": "left"
          },
          "hovermode": "closest",
          "mapbox": {
           "style": "light"
          },
          "paper_bgcolor": "white",
          "plot_bgcolor": "#E5ECF6",
          "polar": {
           "angularaxis": {
            "gridcolor": "white",
            "linecolor": "white",
            "ticks": ""
           },
           "bgcolor": "#E5ECF6",
           "radialaxis": {
            "gridcolor": "white",
            "linecolor": "white",
            "ticks": ""
           }
          },
          "scene": {
           "xaxis": {
            "backgroundcolor": "#E5ECF6",
            "gridcolor": "white",
            "gridwidth": 2,
            "linecolor": "white",
            "showbackground": true,
            "ticks": "",
            "zerolinecolor": "white"
           },
           "yaxis": {
            "backgroundcolor": "#E5ECF6",
            "gridcolor": "white",
            "gridwidth": 2,
            "linecolor": "white",
            "showbackground": true,
            "ticks": "",
            "zerolinecolor": "white"
           },
           "zaxis": {
            "backgroundcolor": "#E5ECF6",
            "gridcolor": "white",
            "gridwidth": 2,
            "linecolor": "white",
            "showbackground": true,
            "ticks": "",
            "zerolinecolor": "white"
           }
          },
          "shapedefaults": {
           "line": {
            "color": "#2a3f5f"
           }
          },
          "ternary": {
           "aaxis": {
            "gridcolor": "white",
            "linecolor": "white",
            "ticks": ""
           },
           "baxis": {
            "gridcolor": "white",
            "linecolor": "white",
            "ticks": ""
           },
           "bgcolor": "#E5ECF6",
           "caxis": {
            "gridcolor": "white",
            "linecolor": "white",
            "ticks": ""
           }
          },
          "title": {
           "x": 0.05
          },
          "xaxis": {
           "automargin": true,
           "gridcolor": "white",
           "linecolor": "white",
           "ticks": "",
           "title": {
            "standoff": 15
           },
           "zerolinecolor": "white",
           "zerolinewidth": 2
          },
          "yaxis": {
           "automargin": true,
           "gridcolor": "white",
           "linecolor": "white",
           "ticks": "",
           "title": {
            "standoff": 15
           },
           "zerolinecolor": "white",
           "zerolinewidth": 2
          }
         }
        },
        "title": {
         "text": "Moderate & High Specialized Software Use by Race"
        }
       }
      }
     },
     "metadata": {},
     "output_type": "display_data"
    }
   ],
   "source": [
    "import plotly.graph_objects as go\n",
    "from plotly.subplots import make_subplots\n",
    "\n",
    "labels = [\"Native Hawaiian and Other Pacific Islander\", \"American Indian and Alaska Native\", \"Black or African American\", \"Equally minority/nonminority\", \"Asian\", \"White\"]\n",
    "\n",
    "# Create subplots: use 'domain' type for Pie subplot\n",
    "fig = make_subplots(rows=1, cols=2, specs=[[{'type':'domain'}, {'type':'domain'}]])\n",
    "fig.add_trace(go.Pie(labels=labels, values=[0, 0.247, 1.08, 1.61, 5.06, 92], name=\"Moderate Use\"),\n",
    "              1, 1)\n",
    "fig.add_trace(go.Pie(labels=labels, values=[0.0516, 0.298, 1.33, 1.46, 5.36, 91.5], name=\"High Use\"),\n",
    "              1, 2)\n",
    "\n",
    "# Use `hole` to create a donut-like pie chart\n",
    "fig.update_traces(hole=.4, hoverinfo=\"label+percent+name\")\n",
    "\n",
    "fig.update_layout(\n",
    "    title_text=\"Moderate & High Specialized Software Use by Race\",\n",
    "    # Add annotations in the center of the donut pies.\n",
    "    annotations=[dict(text='Mod Use', x=0.180, y=0.5, font_size=20, showarrow=False),\n",
    "                 dict(text='High Use', x=0.825, y=0.5, font_size=20, showarrow=False)])\n",
    "fig.show()"
   ]
  }
 ],
 "metadata": {
  "kernelspec": {
   "display_name": "Python 3.9.12 ('base')",
   "language": "python",
   "name": "python3"
  },
  "language_info": {
   "codemirror_mode": {
    "name": "ipython",
    "version": 3
   },
   "file_extension": ".py",
   "mimetype": "text/x-python",
   "name": "python",
   "nbconvert_exporter": "python",
   "pygments_lexer": "ipython3",
   "version": "3.9.12"
  },
  "orig_nbformat": 4,
  "vscode": {
   "interpreter": {
    "hash": "cc53f4922f8645180ac6239953a178b6dc4f0b4a453103d3428c161a65e3e559"
   }
  }
 },
 "nbformat": 4,
 "nbformat_minor": 2
}
